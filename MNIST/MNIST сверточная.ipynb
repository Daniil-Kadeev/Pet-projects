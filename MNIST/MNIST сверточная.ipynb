{
 "cells": [
  {
   "cell_type": "markdown",
   "id": "af3b36ca-9dc0-4147-8410-a8c35ec2cf1a",
   "metadata": {},
   "source": [
    "# Нейронка класс сверточная MNIST"
   ]
  },
  {
   "cell_type": "markdown",
   "id": "76ad9183-9d12-4c5d-a0e0-fa29154957d5",
   "metadata": {},
   "source": [
    "## Библиотеки"
   ]
  },
  {
   "cell_type": "code",
   "execution_count": null,
   "id": "e8d5971f-17ff-4a01-9da8-dbe1553f56ae",
   "metadata": {},
   "outputs": [],
   "source": [
    "import torch\n",
    "import torchvision\n",
    "\n",
    "from torchvision import datasets\n",
    "from torchvision.datasets import ImageFolder\n",
    "from torch.utils.data import Dataset, DataLoader, random_split\n",
    "from torchvision import utils\n",
    "from torchvision.transforms import v2\n",
    "from torchvision import transforms \n",
    "\n",
    "from torch import nn\n",
    "\n",
    "import os\n",
    "import json\n",
    "import numpy as np\n",
    "import matplotlib.pyplot as plt\n",
    "\n",
    "import struct\n",
    "import sys\n",
    "import random\n",
    "\n",
    "from array import array\n",
    "from tqdm import tqdm\n",
    "from matplotlib.ticker import AutoMinorLocator, MultipleLocator\n",
    "from PIL import Image\n"
   ]
  },
  {
   "cell_type": "markdown",
   "id": "bb638533-2e26-45e4-b703-af3ad3efe7c1",
   "metadata": {},
   "source": [
    "# Обязательая ячейка"
   ]
  },
  {
   "cell_type": "code",
   "execution_count": null,
   "id": "65f5f703-20be-4ec5-b498-07dda2edd418",
   "metadata": {},
   "outputs": [],
   "source": [
    "path_to_all_data = r'C:\\Users\\user\\Desktop\\learn models'"
   ]
  },
  {
   "cell_type": "markdown",
   "id": "1fef3a77-0b9c-44ca-95df-71da0b6a2b96",
   "metadata": {},
   "source": [
    "## Трансформации"
   ]
  },
  {
   "cell_type": "code",
   "execution_count": null,
   "id": "1e05a963-06d3-42ca-ac62-beebeb11cb20",
   "metadata": {},
   "outputs": [],
   "source": [
    "transform = v2.Compose([\n",
    "    v2.ToImage(),\n",
    "    v2.Grayscale(), # очевидно - только 1 цветовой канал в градации серого\n",
    "    v2.ToDtype(torch.float32, scale=True),\n",
    "    v2.Normalize(mean=(0.5, ), std=(0.5, ))    \n",
    "])"
   ]
  },
  {
   "cell_type": "markdown",
   "id": "30e15843-eac2-4b96-9333-13c093256359",
   "metadata": {},
   "source": [
    "## Загрузка изображений"
   ]
  },
  {
   "cell_type": "code",
   "execution_count": null,
   "id": "f7b40a2f-3960-4812-acab-bed382e87f19",
   "metadata": {},
   "outputs": [],
   "source": [
    "train_data = datasets.ImageFolder(root=os.path.join(path_to_all_data, r'MNIST\\data\\training'), transform=transform)\n",
    "test_data = datasets.ImageFolder(root=os.path.join(path_to_all_data, r'MNIST\\data\\testing'), transform=transform)\n",
    "\n",
    "train_data, val_data = random_split(train_data, [0.7, 0.3])"
   ]
  },
  {
   "cell_type": "code",
   "execution_count": null,
   "id": "bf07ac92-8e51-4a43-b4da-af011fb75369",
   "metadata": {
    "scrolled": true
   },
   "outputs": [],
   "source": [
    "test_data.classes, test_data.class_to_idx"
   ]
  },
  {
   "cell_type": "code",
   "execution_count": null,
   "id": "a3cc9864-2e82-45b4-9e34-6eb685cb7847",
   "metadata": {},
   "outputs": [],
   "source": [
    "test_data"
   ]
  },
  {
   "cell_type": "code",
   "execution_count": null,
   "id": "1d1a72ce-6b1c-42d0-bed7-20edddc89cd6",
   "metadata": {},
   "outputs": [],
   "source": [
    "img, cls = test_data[200]\n",
    "print(img.shape, cls)"
   ]
  },
  {
   "cell_type": "code",
   "execution_count": null,
   "id": "2a503141-79a4-465c-9c8f-f0a82a89cb3d",
   "metadata": {},
   "outputs": [],
   "source": [
    "train_loader = DataLoader(dataset=train_data, batch_size=32, shuffle=True)\n",
    "val_loader = DataLoader(dataset=val_data, batch_size=32, shuffle=False)\n",
    "test_loader = DataLoader(dataset=test_data, batch_size=32, shuffle=False)"
   ]
  },
  {
   "cell_type": "code",
   "execution_count": null,
   "id": "ed8be386-afff-4ba8-81b9-949d129a0af6",
   "metadata": {},
   "outputs": [],
   "source": [
    "imgs, clss = next(iter(train_loader))\n",
    "plt.imshow(np.transpose(utils.make_grid(imgs, normalize=True), (1, 2, 0)))\n",
    "for i in range(int(len(clss) / 8)):\n",
    "    print(clss[i * 8:(i+1) * 8])\n"
   ]
  },
  {
   "cell_type": "markdown",
   "id": "d35ca11c-df85-4417-9a18-6ae1f456e160",
   "metadata": {},
   "source": [
    "## GPU/CPU"
   ]
  },
  {
   "cell_type": "code",
   "execution_count": null,
   "id": "f6d43317-d2ea-4de4-a1fc-c04277cc04da",
   "metadata": {},
   "outputs": [],
   "source": [
    "device = 'cuda' if torch.cuda.is_available() else 'cpu'\n",
    "device"
   ]
  },
  {
   "cell_type": "markdown",
   "id": "492b4377-03e8-444f-a186-4b34e32fbd6c",
   "metadata": {},
   "source": [
    "## Модель"
   ]
  },
  {
   "cell_type": "markdown",
   "id": "3709b489-b848-48f3-af20-a9fb71d13f0a",
   "metadata": {},
   "source": [
    "Формулы для расчёта карты признаков \n",
    "\n",
    "$$H_{out}=\\Biggl\\lfloor \\frac{H_{in}+2\\cdot\\text{padding[0]}-\\text{dilation[0]}\\cdot(\\text{kernel\\_size[0]} - 1) - 1}{\\text{stride[0]}} \\Biggl\\rfloor + 1$$\n",
    "\n",
    "$$W_{out}=\\Biggl\\lfloor \\frac{W_{in}+2\\cdot\\text{padding[1]}-\\text{dilation[1]}\\cdot(\\text{kernel\\_size[1]} - 1) - 1}{\\text{stride[1]}} \\Biggl\\rfloor + 1$$"
   ]
  },
  {
   "cell_type": "markdown",
   "id": "faae777a-8b23-4380-a81b-ffdb30d03a70",
   "metadata": {},
   "source": [
    "### Калькулятор для расчёта размеров карты признаков"
   ]
  },
  {
   "cell_type": "code",
   "execution_count": null,
   "id": "b0e321c5-23f9-4d2e-b6d2-13e0091a6cf6",
   "metadata": {},
   "outputs": [],
   "source": [
    "padding = [0, 0]\n",
    "dilation = [0, 0]\n",
    "kernel_size = [3, 3]\n",
    "stride = [1, 1]\n",
    "H_in = 28\n",
    "W_in = 28\n",
    "\n",
    "H_out = int((H_in + 2 * padding[0] - dilation[0] * (kernel_size[0] - 1 ) -1 )/ stride[0]) + 1\n",
    "W_out = int((W_in + 2 * padding[1] - dilation[0] * (kernel_size[1] - 1 ) -1 )/ stride[1]) + 1\n",
    "\n",
    "print(f'H_out = {H_out}')\n",
    "print(f'W_out = {H_out}')"
   ]
  },
  {
   "cell_type": "code",
   "execution_count": null,
   "id": "72d4561e-ee87-4597-a3f0-8d786328965b",
   "metadata": {},
   "outputs": [],
   "source": [
    "class MyCnv(nn.Module):\n",
    "    def __init__(self, in_channels, out):\n",
    "        super().__init__()\n",
    "        self.conv = nn.Sequential(\n",
    "            nn.Conv2d(in_channels, 32, (3, 3)), # (3, 28, 28) -> (32, 26, 26)\n",
    "            nn.ReLU(),\n",
    "            nn.Conv2d(32, 64, (3, 3)), # (32, 26, 26) -> (64, 24, 24) \n",
    "            nn.ReLU()\n",
    "        )\n",
    "        self.flatten = nn.Flatten() # (64, 24, 24) -> (64*24*24)\n",
    "        self.fc = nn.Sequential( # fully connected\n",
    "            nn.Linear(64*24*24, 128),\n",
    "            nn.ReLU(),\n",
    "            nn.Dropout(0.3),\n",
    "            nn.Linear(128, 10)\n",
    "        )        \n",
    "       \n",
    "    def forward(self, x):\n",
    "        x = self.conv(x)\n",
    "        x = self.flatten(x)\n",
    "        out = self.fc(x)\n",
    "        return out\n",
    "\n",
    "# x = x.flatten(start_dim=1, end_dim=-1) # как аналог можно заменить nn.Flatten()(x)\n",
    "\n",
    "model = MyCnv(1, 10).to(device)\n",
    "\n",
    "std_info = ''\n",
    "model, model(torch.rand([16, 1, 28, 28], dtype=torch.float32).to(device)).shape"
   ]
  },
  {
   "cell_type": "markdown",
   "id": "db7b6823-47ef-47ee-8ec5-f4d6babec558",
   "metadata": {},
   "source": [
    "## Класс ранней остановки"
   ]
  },
  {
   "cell_type": "code",
   "execution_count": null,
   "id": "0af92711-2f0e-40f1-91a4-0d6867313c2a",
   "metadata": {
    "jupyter": {
     "source_hidden": true
    }
   },
   "outputs": [],
   "source": [
    "class EarlyStopping:\n",
    "    def __init__(self, mode='min', patience=10, treshold=0.0001, treshold_mode='rel'):\n",
    "        if mode not in {'min', 'max'}:\n",
    "            raise ValueError(f'Параметр mode может принимать только значения max и min - {mode}')\n",
    "        if treshold_mode not in {'rel', 'abs'}:\n",
    "            raise ValueError(f'Параметр treshold_mode может принимать только значения max и min - {treshold_mode}')\n",
    "        if not isinstance(patience, int):\n",
    "            raise ValueError(f'Параметр patience должен быть int - {type(patience)}, {patience}')\n",
    "        if not isinstance(treshold, float):\n",
    "            raise ValueError(f'Параметр treshold должен быть float - {type(treshold)}, {treshold}')\n",
    "        if treshold >= 1.0:\n",
    "            raise ValueError(f'Параметр treshold должен быть меньше 1.0 - {treshold}')\n",
    "        \n",
    "        self.mode = mode\n",
    "        self.patience = patience\n",
    "        self.treshold = treshold\n",
    "        self.treshold_mode = treshold_mode\n",
    "        self.count = 0\n",
    "        self.best = None\n",
    "        \n",
    "        \n",
    "    def __call__(self, tracker_parameter):\n",
    "        current = float(tracker_parameter)\n",
    "        if self.best is None:\n",
    "            self.best = current\n",
    "            return False\n",
    "        \n",
    "        if self.changed_better(current, self.best):\n",
    "            self.best = current\n",
    "            self.count = 0\n",
    "        else:\n",
    "            self.count += 1\n",
    "            \n",
    "        if self.count >= self.patience:\n",
    "            self.count = 0\n",
    "            return True\n",
    "        return False\n",
    "    \n",
    "    \n",
    "    def changed_better(self, current, best):\n",
    "        if self.mode == 'min' and self.treshold_mode == 'rel':\n",
    "            return current < best - best * self.treshold\n",
    "        \n",
    "        elif self.mode == 'min' and self.treshold_mode == 'abs':\n",
    "            return current < best - self.treshold\n",
    "        \n",
    "        elif self.mode == 'max' and self.treshold_mode == 'rel':\n",
    "            return current > best + best * self.treshold\n",
    "        \n",
    "        else:# self.mode == 'max' and self.treshold_mode == 'abs':\n",
    "            return current > best + self.treshold\n",
    "            "
   ]
  },
  {
   "cell_type": "markdown",
   "id": "afc8cab3-3c73-42a1-ac70-4d120b52b22a",
   "metadata": {},
   "source": [
    "## Гиперпараметры, шедулер"
   ]
  },
  {
   "cell_type": "code",
   "execution_count": null,
   "id": "447c0c3c-8aa9-4d46-a314-9b0f6c33eb10",
   "metadata": {},
   "outputs": [],
   "source": [
    "EPOCHS = 10\n",
    "train_loss, train_acc, val_loss, val_acc = [], [], [], []\n",
    "lr_list = []\n",
    "best_loss = None\n",
    "treshold = 0.00001"
   ]
  },
  {
   "cell_type": "code",
   "execution_count": null,
   "id": "7e53ae54-bd5a-4503-bc2e-2033b7255be4",
   "metadata": {},
   "outputs": [],
   "source": [
    "loss_model = nn.CrossEntropyLoss()\n",
    "opt = torch.optim.Adam(model.parameters(), lr=0.0001)\n",
    "lr_scheduler = torch.optim.lr_scheduler.ReduceLROnPlateau(opt, mode='min', patience=3)\n",
    "earlystopping = EarlyStopping(mode='min', patience=10)"
   ]
  },
  {
   "cell_type": "markdown",
   "id": "c9b676c8-64fa-4aa2-be09-deebd6188569",
   "metadata": {},
   "source": [
    "## Обучение"
   ]
  },
  {
   "cell_type": "raw",
   "id": "f73ee4dd-ba05-4b2c-a3c9-1bc03b80575c",
   "metadata": {},
   "source": [
    "Цикл обучения\n",
    "    Тренировка модели\n",
    "        Данные     \n",
    "        Прямой проход и расчёт ошибки модели    \n",
    "        Обратный проход\n",
    "        Шаг оптимизации\n",
    "    Расчёт метрики\n",
    "    Сохранение лоса и метрики\n",
    "\n",
    "    Валидация\n",
    "        Данные     \n",
    "        Прямой проход и расчёт ошибки модели            \n",
    "    Расчёт метрики\n",
    "    Сохранение лоса и метрики"
   ]
  },
  {
   "cell_type": "code",
   "execution_count": null,
   "id": "3a1865b9-131b-435d-82e9-529daad90c83",
   "metadata": {},
   "outputs": [],
   "source": [
    "def update_checkpoint():\n",
    "    checkpoint = {\n",
    "            'class_to_idx': for_one_hot_vector.class_to_idx,\n",
    "            'info': std_info,\n",
    "            'state_model': model.state_dict(),\n",
    "            'state_opt': opt.state_dict(),\n",
    "            'state_lr_scheduler': lr_scheduler.state_dict(),\n",
    "            'loss': {\n",
    "                'train_loss': train_loss,\n",
    "                'val_loss': val_loss,\n",
    "                'best_loss': best_loss\n",
    "            },\n",
    "            'metric': {\n",
    "                'train_acc': train_acc,\n",
    "                'val_acc': val_acc\n",
    "            },\n",
    "            'lr': lr_list,\n",
    "            'epoch': {\n",
    "                'EPOCHS': EPOCHS,\n",
    "                'save_epoch': epoch\n",
    "            }\n",
    "        }\n",
    "    return checkpoint"
   ]
  },
  {
   "cell_type": "code",
   "execution_count": null,
   "id": "602bedae-9292-417c-b5f8-8b5fcdd8a4eb",
   "metadata": {
    "scrolled": true
   },
   "outputs": [],
   "source": [
    "%%time\n",
    "os.chdir(os.path.join(path_to_all_data, 'MNIST'))\n",
    "\n",
    "for epoch in range(EPOCHS):\n",
    "    model.train()\n",
    "    running_train_loss = []\n",
    "    true_answer = 0 \n",
    "    train_loop = tqdm(train_loader, leave=False) \n",
    "    for x, targets in train_loop:\n",
    "        x = x.to(device)\n",
    "        targets = targets.reshape(-1).to(torch.int32) \n",
    "        targets = torch.eye(10)[targets].to(device)\n",
    "\n",
    "        pred = model(x)\n",
    "        loss = loss_model(pred, targets)\n",
    "        opt.zero_grad() \n",
    "        loss.backward()\n",
    "        opt.step() \n",
    "        \n",
    "        running_train_loss.append(loss.item())\n",
    "        mean_train_loss = sum(running_train_loss) / len(running_train_loss)\n",
    "        true_answer += (pred.argmax(dim=1) == targets.argmax(dim=1)).sum().item()\n",
    "        train_loop.set_description(f'Epoch [{epoch+1}/{EPOCHS}], train_loss={mean_train_loss:.4f}')\n",
    "\n",
    "    running_train_acc = true_answer / len(train_data)\n",
    "    train_loss.append(mean_train_loss)\n",
    "    train_acc.append(running_train_acc)\n",
    "\n",
    "    model.eval()\n",
    "    with torch.no_grad(): \n",
    "        running_val_loss = []\n",
    "        true_answer = 0\n",
    "        for x, targets in val_loader:\n",
    "            x = x.to(device)\n",
    "            targets = targets.reshape(-1).to(torch.int32)\n",
    "            targets = torch.eye(10)[targets].to(device)  \n",
    "            \n",
    "            pred = model(x)\n",
    "            loss = loss_model(pred, targets)\n",
    "\n",
    "            running_val_loss.append(loss.item())\n",
    "            mean_val_loss = sum(running_val_loss) / len(running_val_loss)\n",
    "            true_answer += (pred.argmax(dim=1) == targets.argmax(dim=1)).sum().item()\n",
    "\n",
    "        running_val_acc = true_answer / len(val_data)\n",
    "        val_loss.append(mean_val_loss)\n",
    "        val_acc.append(running_val_acc)\n",
    "\n",
    "        lr_scheduler.step(mean_val_loss)\n",
    "        lr_list.append(lr_scheduler._last_lr[0])\n",
    "\n",
    "        print(f'Epoch [{epoch+1}/{EPOCHS}], train_loss={mean_train_loss:.4f}, train_acc={running_train_acc:.4f}, val_loss={mean_val_loss:.4f}, val_acc={running_val_acc:.4f}')\n",
    "\n",
    "    if best_loss is None:\n",
    "        best_loss = mean_val_loss\n",
    "\n",
    "    if mean_val_loss < best_loss - best_loss * treshold:\n",
    "        best_loss = mean_val_loss\n",
    "        \n",
    "        checkpoint = update_checkpoint()\n",
    "        torch.save(checkpoint, os.path.join('conv_model', f'model_{epoch+1}.pt'))\n",
    "        for i in os.listdir('conv_model'):\n",
    "            if os.path.join('conv_model', i) != os.path.join('conv_model', f'model_{epoch+1}.pt'):\n",
    "                os.remove(os.path.join('conv_model', i))        \n",
    "        print(f'На эпохе {epoch+1}, сохранена модель со значением функции потерь на валидации - {mean_val_loss:.4f}', end='\\n\\n')\n",
    "\n",
    "    if earlystopping(mean_val_loss):\n",
    "        print(f\"\\033[31mОбучение остановленно на {epoch + 1} эпохе.\\033[0m\")\n",
    "        break\n",
    "else:\n",
    "    print(f'Достигнут лимит по эпохам - {EPOCHS}')"
   ]
  },
  {
   "cell_type": "markdown",
   "id": "b331481b-58e2-4daf-bbc2-5efe3a69480e",
   "metadata": {},
   "source": [
    "## Тест"
   ]
  },
  {
   "cell_type": "code",
   "execution_count": null,
   "id": "bcd9c74d-352c-45dc-af17-e0318ecbb333",
   "metadata": {},
   "outputs": [],
   "source": [
    "model.eval()\n",
    "with torch.no_grad(): \n",
    "    running_test_loss = []\n",
    "    true_answer = 0\n",
    "    for x, targets in test_loader:\n",
    "        x = x.to(device)\n",
    "        targets = targets.reshape(-1).to(torch.int32)\n",
    "        targets = torch.eye(10)[targets].to(device)        \n",
    "        pred = model(x)\n",
    "        loss = loss_model(pred, targets)\n",
    "        running_test_loss.append(loss.item())\n",
    "        mean_test_loss = sum(running_test_loss) / len(running_test_loss)\n",
    "        true_answer += (pred.argmax(dim=1) == targets.argmax(dim=1)).sum().item()\n",
    "    running_test_acc = true_answer / len(val_data)\n",
    "print(f'mean_test_loss={mean_test_loss:.4f}, running_test_acc={running_test_acc:.4f}')"
   ]
  },
  {
   "cell_type": "raw",
   "id": "488e84ff-6b41-4207-ae5b-4c272fb6a3ce",
   "metadata": {},
   "source": [
    "просто mean_test_loss=0.1366, running_test_acc=0.5319\n",
    "дропаут mean_test_loss=0.1790, running_test_acc=0.5255\n",
    "дроп и норм mean_test_loss=0.2816, running_test_acc=0.5098"
   ]
  },
  {
   "cell_type": "markdown",
   "id": "31264f1f-eafc-41dc-80c7-36e5b99d6d49",
   "metadata": {},
   "source": [
    "## Графики "
   ]
  },
  {
   "cell_type": "code",
   "execution_count": null,
   "id": "a5fee322-6192-4cfd-b137-f140c0951e97",
   "metadata": {},
   "outputs": [],
   "source": [
    "fig, axs = plt.subplots(1, 1)\n",
    "axs.plot(train_loss)\n",
    "axs.plot(val_loss)\n",
    "ax0 = axs.twinx()\n",
    "ax0.plot(lr_list, color='green')\n",
    "axs.legend(['loss_train', 'loss_val', 'lr'])\n",
    "axs.grid()\n"
   ]
  },
  {
   "cell_type": "code",
   "execution_count": null,
   "id": "f45b218d-760a-42fc-9952-dd780fd8e698",
   "metadata": {},
   "outputs": [],
   "source": [
    "fig, axs = plt.subplots(1, 1)\n",
    "axs.plot(train_acc)\n",
    "axs.plot(val_acc)\n",
    "ax1 = axs.twinx()\n",
    "ax1.plot(lr_list, color='green')\n",
    "axs.legend(['acc_train', 'acc_val', 'lr'])\n",
    "axs.grid()"
   ]
  },
  {
   "cell_type": "markdown",
   "id": "be9bbd90-64c6-45fb-afd5-2783cb33f2f4",
   "metadata": {},
   "source": [
    "## Загрузка модели"
   ]
  },
  {
   "cell_type": "code",
   "execution_count": null,
   "id": "29b44c46-9792-4088-a65b-51bcca913a5a",
   "metadata": {},
   "outputs": [],
   "source": [
    "load_model = nn.Sequential(\n",
    "    nn.Linear(28*28, 128),\n",
    "    nn.ReLU(),\n",
    "    nn.Linear(128, 10)\n",
    ").to(device)"
   ]
  },
  {
   "cell_type": "code",
   "execution_count": null,
   "id": "3be657a5-5d0a-4778-be4d-669506cd8968",
   "metadata": {},
   "outputs": [],
   "source": [
    "load_model_state = torch.load(os.path.join('model', f'model_3.pt'))"
   ]
  },
  {
   "cell_type": "code",
   "execution_count": null,
   "id": "3e26fb8d-f85a-4edd-954b-f2ad4fda0902",
   "metadata": {},
   "outputs": [],
   "source": [
    "print(load_model_state)"
   ]
  },
  {
   "cell_type": "code",
   "execution_count": null,
   "id": "8b9922b0-aa74-4003-af54-d7fd6ab361f0",
   "metadata": {},
   "outputs": [],
   "source": [
    "checkpoint"
   ]
  },
  {
   "cell_type": "code",
   "execution_count": null,
   "id": "846451c3-7b8a-4ccb-91b2-6728dd0d7237",
   "metadata": {},
   "outputs": [],
   "source": [
    "load_loss_model = nn.CrossEntropyLoss()\n",
    "load_opt = torch.optim.Adam(load_model.parameters(), lr=0.001)\n",
    "load_lr_scheduler = torch.optim.lr_scheduler.ReduceLROnPlateau(load_opt)"
   ]
  },
  {
   "cell_type": "code",
   "execution_count": null,
   "id": "ca975952-4395-4655-916e-5f02219db05a",
   "metadata": {},
   "outputs": [],
   "source": [
    "load_model.load_state_dict(load_model_state['state_model'])\n",
    "load_opt.load_state_dict(load_model_state['state_opt'])\n",
    "load_lr_scheduler.load_state_dict(load_model_state['state_lr_scheduler'])"
   ]
  },
  {
   "cell_type": "code",
   "execution_count": null,
   "id": "557bd307-29d4-4404-bbe9-da163db143ef",
   "metadata": {},
   "outputs": [],
   "source": [
    "EPOCHS = load_model_state['epoch']['EPOCHS']\n",
    "save_epoch = load_model_state['epoch']['save_epoch']\n",
    "\n",
    "load_train_loss = load_model_state['loss']['train_loss']\n",
    "load_train_acc = load_model_state['metric']['train_acc']\n",
    "load_val_loss = load_model_state['loss']['val_loss']\n",
    "load_val_acc = load_model_state['metric']['val_acc']\n",
    "load_lr_list = load_model_state['lr']\n",
    "\n",
    "load_best_loss = load_model_state['loss']['best_loss']"
   ]
  },
  {
   "cell_type": "raw",
   "id": "6c3ce9fc-cbc2-45e9-a2bd-42b1132a98d7",
   "metadata": {},
   "source": [
    "for epoch in range(save_epoch + 1, EPOCHS):"
   ]
  }
 ],
 "metadata": {
  "kernelspec": {
   "display_name": "Python 3 (ipykernel)",
   "language": "python",
   "name": "python3"
  },
  "language_info": {
   "codemirror_mode": {
    "name": "ipython",
    "version": 3
   },
   "file_extension": ".py",
   "mimetype": "text/x-python",
   "name": "python",
   "nbconvert_exporter": "python",
   "pygments_lexer": "ipython3",
   "version": "3.10.5"
  }
 },
 "nbformat": 4,
 "nbformat_minor": 5
}
