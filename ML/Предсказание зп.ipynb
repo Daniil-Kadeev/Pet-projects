{
 "cells": [
  {
   "cell_type": "markdown",
   "id": "9c8424aa-7fee-41b7-9b74-8d123f0001a6",
   "metadata": {},
   "source": [
    "# sklearn"
   ]
  },
  {
   "cell_type": "markdown",
   "id": "b5dd842a-4c3d-41b1-b377-7d8266da7579",
   "metadata": {},
   "source": [
    "## Зарплатка"
   ]
  },
  {
   "cell_type": "markdown",
   "id": "1c210fc1-9093-4f28-ad96-aaa436bbec02",
   "metadata": {},
   "source": [
    "### Импорт библиотек"
   ]
  },
  {
   "cell_type": "code",
   "execution_count": 106,
   "id": "579b1956-f327-4732-856f-f6fbc10d56be",
   "metadata": {},
   "outputs": [],
   "source": [
    "import sklearn\n",
    "from sklearn.datasets import load_iris\n",
    "from sklearn.model_selection import train_test_split\n",
    "from sklearn.metrics import mean_absolute_error, mean_squared_error\n",
    "from sklearn.preprocessing import OrdinalEncoder, normalize, Normalizer, StandardScaler\n",
    "from sklearn.tree import DecisionTreeRegressor\n",
    "from sklearn.linear_model import LinearRegression\n",
    "from sklearn.model_selection import cross_validate\n",
    "from sklearn.preprocessing import PolynomialFeatures\n",
    "from sklearn.ensemble import RandomForestRegressor\n",
    "from sklearn.svm import SVR\n",
    "from sklearn.model_selection import cross_val_score, KFold\n",
    "from sklearn.model_selection import GridSearchCV\n",
    "\n",
    "\n",
    "\n",
    "\n",
    "import os\n",
    "import pandas as pd\n",
    "import numpy as np\n",
    "import matplotlib.pyplot as plt\n",
    "import seaborn as sns\n",
    "from scipy.stats import f_oneway\n",
    "from scipy.stats import shapiro"
   ]
  },
  {
   "cell_type": "markdown",
   "id": "52eb7b64-22f5-44a0-82af-85f9aa7835f8",
   "metadata": {},
   "source": [
    "# Обязательная ячейка"
   ]
  },
  {
   "cell_type": "code",
   "execution_count": null,
   "id": "ad669c03-8755-4cf7-b9d2-0d747f2af00c",
   "metadata": {},
   "outputs": [],
   "source": [
    "path_to_all_data = r'C:\\Users\\user\\Desktop\\learn models'"
   ]
  },
  {
   "cell_type": "code",
   "execution_count": 6,
   "id": "a24f54f8-da2c-46f1-9833-8006a6ea8583",
   "metadata": {},
   "outputs": [
    {
     "data": {
      "text/plain": [
       "'C:\\\\Users\\\\user\\\\Desktop\\\\learn models'"
      ]
     },
     "execution_count": 6,
     "metadata": {},
     "output_type": "execute_result"
    }
   ],
   "source": [
    "file = r'sklearn\\Salary Prediction of Data Professions.csv'\n",
    "\n",
    "df = pd.read_csv(os.path.join(path_to_all_data, file))\n",
    "path_to_all_data"
   ]
  },
  {
   "cell_type": "markdown",
   "id": "00d743d1-8d8e-4150-b290-bc7d18fbf4c3",
   "metadata": {},
   "source": [
    "### Разглядывание датасета"
   ]
  },
  {
   "cell_type": "code",
   "execution_count": 7,
   "id": "8a923c54-13f5-43cb-9a7e-290ab8a2ecb5",
   "metadata": {},
   "outputs": [
    {
     "data": {
      "text/html": [
       "<div>\n",
       "<style scoped>\n",
       "    .dataframe tbody tr th:only-of-type {\n",
       "        vertical-align: middle;\n",
       "    }\n",
       "\n",
       "    .dataframe tbody tr th {\n",
       "        vertical-align: top;\n",
       "    }\n",
       "\n",
       "    .dataframe thead th {\n",
       "        text-align: right;\n",
       "    }\n",
       "</style>\n",
       "<table border=\"1\" class=\"dataframe\">\n",
       "  <thead>\n",
       "    <tr style=\"text-align: right;\">\n",
       "      <th></th>\n",
       "      <th>FIRST NAME</th>\n",
       "      <th>LAST NAME</th>\n",
       "      <th>SEX</th>\n",
       "      <th>DOJ</th>\n",
       "      <th>CURRENT DATE</th>\n",
       "      <th>DESIGNATION</th>\n",
       "      <th>AGE</th>\n",
       "      <th>SALARY</th>\n",
       "      <th>UNIT</th>\n",
       "      <th>LEAVES USED</th>\n",
       "      <th>LEAVES REMAINING</th>\n",
       "      <th>RATINGS</th>\n",
       "      <th>PAST EXP</th>\n",
       "    </tr>\n",
       "  </thead>\n",
       "  <tbody>\n",
       "    <tr>\n",
       "      <th>0</th>\n",
       "      <td>TOMASA</td>\n",
       "      <td>ARMEN</td>\n",
       "      <td>F</td>\n",
       "      <td>5-18-2014</td>\n",
       "      <td>01-07-2016</td>\n",
       "      <td>Analyst</td>\n",
       "      <td>21.0</td>\n",
       "      <td>44570</td>\n",
       "      <td>Finance</td>\n",
       "      <td>24.0</td>\n",
       "      <td>6.0</td>\n",
       "      <td>2.0</td>\n",
       "      <td>0</td>\n",
       "    </tr>\n",
       "    <tr>\n",
       "      <th>1</th>\n",
       "      <td>ANNIE</td>\n",
       "      <td>NaN</td>\n",
       "      <td>F</td>\n",
       "      <td>NaN</td>\n",
       "      <td>01-07-2016</td>\n",
       "      <td>Associate</td>\n",
       "      <td>NaN</td>\n",
       "      <td>89207</td>\n",
       "      <td>Web</td>\n",
       "      <td>NaN</td>\n",
       "      <td>13.0</td>\n",
       "      <td>NaN</td>\n",
       "      <td>7</td>\n",
       "    </tr>\n",
       "    <tr>\n",
       "      <th>2</th>\n",
       "      <td>OLIVE</td>\n",
       "      <td>ANCY</td>\n",
       "      <td>F</td>\n",
       "      <td>7-28-2014</td>\n",
       "      <td>01-07-2016</td>\n",
       "      <td>Analyst</td>\n",
       "      <td>21.0</td>\n",
       "      <td>40955</td>\n",
       "      <td>Finance</td>\n",
       "      <td>23.0</td>\n",
       "      <td>7.0</td>\n",
       "      <td>3.0</td>\n",
       "      <td>0</td>\n",
       "    </tr>\n",
       "    <tr>\n",
       "      <th>3</th>\n",
       "      <td>CHERRY</td>\n",
       "      <td>AQUILAR</td>\n",
       "      <td>F</td>\n",
       "      <td>04-03-2013</td>\n",
       "      <td>01-07-2016</td>\n",
       "      <td>Analyst</td>\n",
       "      <td>22.0</td>\n",
       "      <td>45550</td>\n",
       "      <td>IT</td>\n",
       "      <td>22.0</td>\n",
       "      <td>8.0</td>\n",
       "      <td>3.0</td>\n",
       "      <td>0</td>\n",
       "    </tr>\n",
       "    <tr>\n",
       "      <th>4</th>\n",
       "      <td>LEON</td>\n",
       "      <td>ABOULAHOUD</td>\n",
       "      <td>M</td>\n",
       "      <td>11-20-2014</td>\n",
       "      <td>01-07-2016</td>\n",
       "      <td>Analyst</td>\n",
       "      <td>NaN</td>\n",
       "      <td>43161</td>\n",
       "      <td>Operations</td>\n",
       "      <td>27.0</td>\n",
       "      <td>3.0</td>\n",
       "      <td>NaN</td>\n",
       "      <td>3</td>\n",
       "    </tr>\n",
       "  </tbody>\n",
       "</table>\n",
       "</div>"
      ],
      "text/plain": [
       "  FIRST NAME   LAST NAME SEX         DOJ CURRENT DATE DESIGNATION   AGE  \\\n",
       "0     TOMASA       ARMEN   F   5-18-2014   01-07-2016     Analyst  21.0   \n",
       "1      ANNIE         NaN   F         NaN   01-07-2016   Associate   NaN   \n",
       "2      OLIVE        ANCY   F   7-28-2014   01-07-2016     Analyst  21.0   \n",
       "3     CHERRY     AQUILAR   F  04-03-2013   01-07-2016     Analyst  22.0   \n",
       "4       LEON  ABOULAHOUD   M  11-20-2014   01-07-2016     Analyst   NaN   \n",
       "\n",
       "   SALARY        UNIT  LEAVES USED  LEAVES REMAINING  RATINGS  PAST EXP  \n",
       "0   44570     Finance         24.0               6.0      2.0         0  \n",
       "1   89207         Web          NaN              13.0      NaN         7  \n",
       "2   40955     Finance         23.0               7.0      3.0         0  \n",
       "3   45550          IT         22.0               8.0      3.0         0  \n",
       "4   43161  Operations         27.0               3.0      NaN         3  "
      ]
     },
     "execution_count": 7,
     "metadata": {},
     "output_type": "execute_result"
    }
   ],
   "source": [
    "df.head(5)"
   ]
  },
  {
   "cell_type": "code",
   "execution_count": 8,
   "id": "523986c0-16a1-4a2b-bd1d-6dc4d2de2d8d",
   "metadata": {},
   "outputs": [
    {
     "data": {
      "text/html": [
       "<div>\n",
       "<style scoped>\n",
       "    .dataframe tbody tr th:only-of-type {\n",
       "        vertical-align: middle;\n",
       "    }\n",
       "\n",
       "    .dataframe tbody tr th {\n",
       "        vertical-align: top;\n",
       "    }\n",
       "\n",
       "    .dataframe thead th {\n",
       "        text-align: right;\n",
       "    }\n",
       "</style>\n",
       "<table border=\"1\" class=\"dataframe\">\n",
       "  <thead>\n",
       "    <tr style=\"text-align: right;\">\n",
       "      <th></th>\n",
       "      <th>AGE</th>\n",
       "      <th>SALARY</th>\n",
       "      <th>LEAVES USED</th>\n",
       "      <th>LEAVES REMAINING</th>\n",
       "      <th>RATINGS</th>\n",
       "      <th>PAST EXP</th>\n",
       "    </tr>\n",
       "  </thead>\n",
       "  <tbody>\n",
       "    <tr>\n",
       "      <th>count</th>\n",
       "      <td>2636.000000</td>\n",
       "      <td>2639.000000</td>\n",
       "      <td>2636.000000</td>\n",
       "      <td>2637.000000</td>\n",
       "      <td>2637.000000</td>\n",
       "      <td>2639.000000</td>\n",
       "    </tr>\n",
       "    <tr>\n",
       "      <th>mean</th>\n",
       "      <td>24.756449</td>\n",
       "      <td>58136.678287</td>\n",
       "      <td>22.501517</td>\n",
       "      <td>7.503223</td>\n",
       "      <td>3.486159</td>\n",
       "      <td>1.566881</td>\n",
       "    </tr>\n",
       "    <tr>\n",
       "      <th>std</th>\n",
       "      <td>3.908228</td>\n",
       "      <td>36876.956944</td>\n",
       "      <td>4.604469</td>\n",
       "      <td>4.603193</td>\n",
       "      <td>1.114933</td>\n",
       "      <td>2.728416</td>\n",
       "    </tr>\n",
       "    <tr>\n",
       "      <th>min</th>\n",
       "      <td>21.000000</td>\n",
       "      <td>40001.000000</td>\n",
       "      <td>15.000000</td>\n",
       "      <td>0.000000</td>\n",
       "      <td>2.000000</td>\n",
       "      <td>0.000000</td>\n",
       "    </tr>\n",
       "    <tr>\n",
       "      <th>25%</th>\n",
       "      <td>22.000000</td>\n",
       "      <td>43418.000000</td>\n",
       "      <td>19.000000</td>\n",
       "      <td>4.000000</td>\n",
       "      <td>2.000000</td>\n",
       "      <td>0.000000</td>\n",
       "    </tr>\n",
       "    <tr>\n",
       "      <th>50%</th>\n",
       "      <td>24.000000</td>\n",
       "      <td>46781.000000</td>\n",
       "      <td>22.000000</td>\n",
       "      <td>8.000000</td>\n",
       "      <td>3.000000</td>\n",
       "      <td>1.000000</td>\n",
       "    </tr>\n",
       "    <tr>\n",
       "      <th>75%</th>\n",
       "      <td>25.000000</td>\n",
       "      <td>51401.500000</td>\n",
       "      <td>26.000000</td>\n",
       "      <td>11.000000</td>\n",
       "      <td>4.000000</td>\n",
       "      <td>2.000000</td>\n",
       "    </tr>\n",
       "    <tr>\n",
       "      <th>max</th>\n",
       "      <td>45.000000</td>\n",
       "      <td>388112.000000</td>\n",
       "      <td>30.000000</td>\n",
       "      <td>15.000000</td>\n",
       "      <td>5.000000</td>\n",
       "      <td>23.000000</td>\n",
       "    </tr>\n",
       "  </tbody>\n",
       "</table>\n",
       "</div>"
      ],
      "text/plain": [
       "               AGE         SALARY  LEAVES USED  LEAVES REMAINING      RATINGS  \\\n",
       "count  2636.000000    2639.000000  2636.000000       2637.000000  2637.000000   \n",
       "mean     24.756449   58136.678287    22.501517          7.503223     3.486159   \n",
       "std       3.908228   36876.956944     4.604469          4.603193     1.114933   \n",
       "min      21.000000   40001.000000    15.000000          0.000000     2.000000   \n",
       "25%      22.000000   43418.000000    19.000000          4.000000     2.000000   \n",
       "50%      24.000000   46781.000000    22.000000          8.000000     3.000000   \n",
       "75%      25.000000   51401.500000    26.000000         11.000000     4.000000   \n",
       "max      45.000000  388112.000000    30.000000         15.000000     5.000000   \n",
       "\n",
       "          PAST EXP  \n",
       "count  2639.000000  \n",
       "mean      1.566881  \n",
       "std       2.728416  \n",
       "min       0.000000  \n",
       "25%       0.000000  \n",
       "50%       1.000000  \n",
       "75%       2.000000  \n",
       "max      23.000000  "
      ]
     },
     "execution_count": 8,
     "metadata": {},
     "output_type": "execute_result"
    }
   ],
   "source": [
    "df.describe()"
   ]
  },
  {
   "cell_type": "code",
   "execution_count": 9,
   "id": "ceac652c-6aa4-4bff-b907-e5d9e310786c",
   "metadata": {},
   "outputs": [
    {
     "name": "stdout",
     "output_type": "stream",
     "text": [
      "          FIRST NAME:  2367\n",
      "           LAST NAME:  2475\n",
      "                 SEX:     2\n",
      "                 DOJ:   967\n",
      "        CURRENT DATE:     1\n",
      "         DESIGNATION:     6\n",
      "                 AGE:    25\n",
      "              SALARY:  2305\n",
      "                UNIT:     6\n",
      "         LEAVES USED:    16\n",
      "    LEAVES REMAINING:    16\n",
      "             RATINGS:     4\n",
      "            PAST EXP:    21\n"
     ]
    }
   ],
   "source": [
    "for i in df:\n",
    "    print(f'{i.rjust(20)}: {str(df[i].nunique()).rjust(5)}')# - {df[i].unique()}')"
   ]
  },
  {
   "cell_type": "code",
   "execution_count": 10,
   "id": "1bac20d9-0e6e-4dcf-8e28-24fb91498a20",
   "metadata": {},
   "outputs": [
    {
     "data": {
      "text/plain": [
       "FIRST NAME          0\n",
       "LAST NAME           2\n",
       "SEX                 0\n",
       "DOJ                 1\n",
       "CURRENT DATE        0\n",
       "DESIGNATION         0\n",
       "AGE                 3\n",
       "SALARY              0\n",
       "UNIT                0\n",
       "LEAVES USED         3\n",
       "LEAVES REMAINING    2\n",
       "RATINGS             2\n",
       "PAST EXP            0\n",
       "dtype: int64"
      ]
     },
     "execution_count": 10,
     "metadata": {},
     "output_type": "execute_result"
    }
   ],
   "source": [
    "df.isna().sum()"
   ]
  },
  {
   "cell_type": "markdown",
   "id": "3b77da51-33bd-4947-a3b9-7c61b7fcf5b1",
   "metadata": {},
   "source": [
    "### Обработка данных"
   ]
  },
  {
   "cell_type": "code",
   "execution_count": 11,
   "id": "e2d2f284-213e-47f4-bc0d-acadea809d6b",
   "metadata": {},
   "outputs": [
    {
     "data": {
      "text/plain": [
       "24.756449165402124"
      ]
     },
     "execution_count": 11,
     "metadata": {},
     "output_type": "execute_result"
    }
   ],
   "source": [
    "df['AGE'].mean()"
   ]
  },
  {
   "cell_type": "code",
   "execution_count": 12,
   "id": "2b4a971d-7d7a-4f95-be6b-cd490b490fe7",
   "metadata": {},
   "outputs": [],
   "source": [
    "df['AGE'].replace(np.NaN , int(df['AGE'].mean()), inplace=True) # замена нанов на среднее"
   ]
  },
  {
   "cell_type": "code",
   "execution_count": 13,
   "id": "d9b3d3e4-1b3a-48cd-a50e-522425d3cec1",
   "metadata": {},
   "outputs": [],
   "source": [
    "df['LAST NAME'].replace(np.NaN , '', inplace=True) # убираю отдельные строки с именем и фамилией"
   ]
  },
  {
   "cell_type": "code",
   "execution_count": 14,
   "id": "c49dcbea-dac5-4ce9-a12f-598e9aa27888",
   "metadata": {},
   "outputs": [],
   "source": [
    "df['NAME'] = df['LAST NAME'] + ' ' + df['FIRST NAME'] # криво но работает\n",
    "df.insert(0, 'NAME', df.pop('NAME'))\n",
    "df.drop(['LAST NAME', 'FIRST NAME'], axis=1, inplace=True)"
   ]
  },
  {
   "cell_type": "code",
   "execution_count": 15,
   "id": "9e153ae8-6fcf-4ea1-a86f-6e4f225fcea2",
   "metadata": {},
   "outputs": [
    {
     "data": {
      "text/html": [
       "<div>\n",
       "<style scoped>\n",
       "    .dataframe tbody tr th:only-of-type {\n",
       "        vertical-align: middle;\n",
       "    }\n",
       "\n",
       "    .dataframe tbody tr th {\n",
       "        vertical-align: top;\n",
       "    }\n",
       "\n",
       "    .dataframe thead th {\n",
       "        text-align: right;\n",
       "    }\n",
       "</style>\n",
       "<table border=\"1\" class=\"dataframe\">\n",
       "  <thead>\n",
       "    <tr style=\"text-align: right;\">\n",
       "      <th></th>\n",
       "      <th>NAME</th>\n",
       "      <th>SEX</th>\n",
       "      <th>DOJ</th>\n",
       "      <th>CURRENT DATE</th>\n",
       "      <th>DESIGNATION</th>\n",
       "      <th>AGE</th>\n",
       "      <th>SALARY</th>\n",
       "      <th>UNIT</th>\n",
       "      <th>LEAVES USED</th>\n",
       "      <th>LEAVES REMAINING</th>\n",
       "      <th>RATINGS</th>\n",
       "      <th>PAST EXP</th>\n",
       "    </tr>\n",
       "  </thead>\n",
       "  <tbody>\n",
       "    <tr>\n",
       "      <th>0</th>\n",
       "      <td>ARMEN TOMASA</td>\n",
       "      <td>F</td>\n",
       "      <td>5-18-2014</td>\n",
       "      <td>01-07-2016</td>\n",
       "      <td>Analyst</td>\n",
       "      <td>21.0</td>\n",
       "      <td>44570</td>\n",
       "      <td>Finance</td>\n",
       "      <td>24.0</td>\n",
       "      <td>6.0</td>\n",
       "      <td>2.0</td>\n",
       "      <td>0</td>\n",
       "    </tr>\n",
       "    <tr>\n",
       "      <th>1</th>\n",
       "      <td>ANNIE</td>\n",
       "      <td>F</td>\n",
       "      <td>NaN</td>\n",
       "      <td>01-07-2016</td>\n",
       "      <td>Associate</td>\n",
       "      <td>24.0</td>\n",
       "      <td>89207</td>\n",
       "      <td>Web</td>\n",
       "      <td>NaN</td>\n",
       "      <td>13.0</td>\n",
       "      <td>NaN</td>\n",
       "      <td>7</td>\n",
       "    </tr>\n",
       "  </tbody>\n",
       "</table>\n",
       "</div>"
      ],
      "text/plain": [
       "           NAME SEX        DOJ CURRENT DATE DESIGNATION   AGE  SALARY  \\\n",
       "0  ARMEN TOMASA   F  5-18-2014   01-07-2016     Analyst  21.0   44570   \n",
       "1         ANNIE   F        NaN   01-07-2016   Associate  24.0   89207   \n",
       "\n",
       "      UNIT  LEAVES USED  LEAVES REMAINING  RATINGS  PAST EXP  \n",
       "0  Finance         24.0               6.0      2.0         0  \n",
       "1      Web          NaN              13.0      NaN         7  "
      ]
     },
     "execution_count": 15,
     "metadata": {},
     "output_type": "execute_result"
    }
   ],
   "source": [
    "df.iloc[0:2]"
   ]
  },
  {
   "cell_type": "code",
   "execution_count": 16,
   "id": "c6b017c1-fdc2-4ce2-a0f5-20d62673c8ae",
   "metadata": {},
   "outputs": [],
   "source": [
    "df.drop(['CURRENT DATE', 'DOJ'], axis=1, inplace=True) # нужны для... ну его лесом"
   ]
  },
  {
   "cell_type": "code",
   "execution_count": 17,
   "id": "8465caed-de78-4320-bf78-4a29317ba13a",
   "metadata": {},
   "outputs": [],
   "source": [
    "df.dropna(inplace=True)"
   ]
  },
  {
   "cell_type": "code",
   "execution_count": 18,
   "id": "599f64ed-b43a-4c44-b42e-300256971e3c",
   "metadata": {},
   "outputs": [
    {
     "data": {
      "text/plain": [
       "161"
      ]
     },
     "execution_count": 18,
     "metadata": {},
     "output_type": "execute_result"
    }
   ],
   "source": [
    "df.duplicated().sum()"
   ]
  },
  {
   "cell_type": "code",
   "execution_count": 19,
   "id": "18d97870-07f8-4fde-91fb-7b8469494c3a",
   "metadata": {},
   "outputs": [],
   "source": [
    "df.drop_duplicates(inplace=True)"
   ]
  },
  {
   "cell_type": "code",
   "execution_count": 20,
   "id": "41cc018c-5a5b-4821-9fd9-1d961cdad9a8",
   "metadata": {},
   "outputs": [
    {
     "data": {
      "text/html": [
       "<div>\n",
       "<style scoped>\n",
       "    .dataframe tbody tr th:only-of-type {\n",
       "        vertical-align: middle;\n",
       "    }\n",
       "\n",
       "    .dataframe tbody tr th {\n",
       "        vertical-align: top;\n",
       "    }\n",
       "\n",
       "    .dataframe thead th {\n",
       "        text-align: right;\n",
       "    }\n",
       "</style>\n",
       "<table border=\"1\" class=\"dataframe\">\n",
       "  <thead>\n",
       "    <tr style=\"text-align: right;\">\n",
       "      <th></th>\n",
       "      <th>AGE</th>\n",
       "      <th>SALARY</th>\n",
       "      <th>LEAVES USED</th>\n",
       "      <th>LEAVES REMAINING</th>\n",
       "      <th>RATINGS</th>\n",
       "      <th>PAST EXP</th>\n",
       "    </tr>\n",
       "  </thead>\n",
       "  <tbody>\n",
       "    <tr>\n",
       "      <th>count</th>\n",
       "      <td>2472.000000</td>\n",
       "      <td>2472.000000</td>\n",
       "      <td>2472.000000</td>\n",
       "      <td>2472.000000</td>\n",
       "      <td>2472.000000</td>\n",
       "      <td>2472.000000</td>\n",
       "    </tr>\n",
       "    <tr>\n",
       "      <th>mean</th>\n",
       "      <td>24.724110</td>\n",
       "      <td>58044.713997</td>\n",
       "      <td>22.492314</td>\n",
       "      <td>7.507686</td>\n",
       "      <td>3.481796</td>\n",
       "      <td>1.555421</td>\n",
       "    </tr>\n",
       "    <tr>\n",
       "      <th>std</th>\n",
       "      <td>3.907668</td>\n",
       "      <td>36763.857833</td>\n",
       "      <td>4.597514</td>\n",
       "      <td>4.597514</td>\n",
       "      <td>1.115213</td>\n",
       "      <td>2.702758</td>\n",
       "    </tr>\n",
       "    <tr>\n",
       "      <th>min</th>\n",
       "      <td>21.000000</td>\n",
       "      <td>40001.000000</td>\n",
       "      <td>15.000000</td>\n",
       "      <td>0.000000</td>\n",
       "      <td>2.000000</td>\n",
       "      <td>0.000000</td>\n",
       "    </tr>\n",
       "    <tr>\n",
       "      <th>25%</th>\n",
       "      <td>22.000000</td>\n",
       "      <td>43396.000000</td>\n",
       "      <td>19.000000</td>\n",
       "      <td>4.000000</td>\n",
       "      <td>2.000000</td>\n",
       "      <td>0.000000</td>\n",
       "    </tr>\n",
       "    <tr>\n",
       "      <th>50%</th>\n",
       "      <td>24.000000</td>\n",
       "      <td>46737.500000</td>\n",
       "      <td>22.000000</td>\n",
       "      <td>8.000000</td>\n",
       "      <td>3.000000</td>\n",
       "      <td>1.000000</td>\n",
       "    </tr>\n",
       "    <tr>\n",
       "      <th>75%</th>\n",
       "      <td>25.000000</td>\n",
       "      <td>50285.250000</td>\n",
       "      <td>26.000000</td>\n",
       "      <td>11.000000</td>\n",
       "      <td>4.000000</td>\n",
       "      <td>2.000000</td>\n",
       "    </tr>\n",
       "    <tr>\n",
       "      <th>max</th>\n",
       "      <td>45.000000</td>\n",
       "      <td>388112.000000</td>\n",
       "      <td>30.000000</td>\n",
       "      <td>15.000000</td>\n",
       "      <td>5.000000</td>\n",
       "      <td>23.000000</td>\n",
       "    </tr>\n",
       "  </tbody>\n",
       "</table>\n",
       "</div>"
      ],
      "text/plain": [
       "               AGE         SALARY  LEAVES USED  LEAVES REMAINING      RATINGS  \\\n",
       "count  2472.000000    2472.000000  2472.000000       2472.000000  2472.000000   \n",
       "mean     24.724110   58044.713997    22.492314          7.507686     3.481796   \n",
       "std       3.907668   36763.857833     4.597514          4.597514     1.115213   \n",
       "min      21.000000   40001.000000    15.000000          0.000000     2.000000   \n",
       "25%      22.000000   43396.000000    19.000000          4.000000     2.000000   \n",
       "50%      24.000000   46737.500000    22.000000          8.000000     3.000000   \n",
       "75%      25.000000   50285.250000    26.000000         11.000000     4.000000   \n",
       "max      45.000000  388112.000000    30.000000         15.000000     5.000000   \n",
       "\n",
       "          PAST EXP  \n",
       "count  2472.000000  \n",
       "mean      1.555421  \n",
       "std       2.702758  \n",
       "min       0.000000  \n",
       "25%       0.000000  \n",
       "50%       1.000000  \n",
       "75%       2.000000  \n",
       "max      23.000000  "
      ]
     },
     "execution_count": 20,
     "metadata": {},
     "output_type": "execute_result"
    }
   ],
   "source": [
    "df.describe()"
   ]
  },
  {
   "cell_type": "code",
   "execution_count": 21,
   "id": "7140b3fd-9763-490b-8e1f-099caf323c95",
   "metadata": {},
   "outputs": [
    {
     "data": {
      "text/html": [
       "<div>\n",
       "<style scoped>\n",
       "    .dataframe tbody tr th:only-of-type {\n",
       "        vertical-align: middle;\n",
       "    }\n",
       "\n",
       "    .dataframe tbody tr th {\n",
       "        vertical-align: top;\n",
       "    }\n",
       "\n",
       "    .dataframe thead th {\n",
       "        text-align: right;\n",
       "    }\n",
       "</style>\n",
       "<table border=\"1\" class=\"dataframe\">\n",
       "  <thead>\n",
       "    <tr style=\"text-align: right;\">\n",
       "      <th></th>\n",
       "      <th>NAME</th>\n",
       "      <th>SEX</th>\n",
       "      <th>DESIGNATION</th>\n",
       "      <th>AGE</th>\n",
       "      <th>SALARY</th>\n",
       "      <th>UNIT</th>\n",
       "      <th>LEAVES USED</th>\n",
       "      <th>LEAVES REMAINING</th>\n",
       "      <th>RATINGS</th>\n",
       "      <th>PAST EXP</th>\n",
       "    </tr>\n",
       "  </thead>\n",
       "  <tbody>\n",
       "    <tr>\n",
       "      <th>0</th>\n",
       "      <td>ARMEN TOMASA</td>\n",
       "      <td>F</td>\n",
       "      <td>Analyst</td>\n",
       "      <td>21.0</td>\n",
       "      <td>44570</td>\n",
       "      <td>Finance</td>\n",
       "      <td>24.0</td>\n",
       "      <td>6.0</td>\n",
       "      <td>2.0</td>\n",
       "      <td>0</td>\n",
       "    </tr>\n",
       "    <tr>\n",
       "      <th>2</th>\n",
       "      <td>ANCY OLIVE</td>\n",
       "      <td>F</td>\n",
       "      <td>Analyst</td>\n",
       "      <td>21.0</td>\n",
       "      <td>40955</td>\n",
       "      <td>Finance</td>\n",
       "      <td>23.0</td>\n",
       "      <td>7.0</td>\n",
       "      <td>3.0</td>\n",
       "      <td>0</td>\n",
       "    </tr>\n",
       "    <tr>\n",
       "      <th>3</th>\n",
       "      <td>AQUILAR CHERRY</td>\n",
       "      <td>F</td>\n",
       "      <td>Analyst</td>\n",
       "      <td>22.0</td>\n",
       "      <td>45550</td>\n",
       "      <td>IT</td>\n",
       "      <td>22.0</td>\n",
       "      <td>8.0</td>\n",
       "      <td>3.0</td>\n",
       "      <td>0</td>\n",
       "    </tr>\n",
       "    <tr>\n",
       "      <th>5</th>\n",
       "      <td>VICTORIA</td>\n",
       "      <td>F</td>\n",
       "      <td>Analyst</td>\n",
       "      <td>22.0</td>\n",
       "      <td>48736</td>\n",
       "      <td>Marketing</td>\n",
       "      <td>20.0</td>\n",
       "      <td>10.0</td>\n",
       "      <td>4.0</td>\n",
       "      <td>0</td>\n",
       "    </tr>\n",
       "    <tr>\n",
       "      <th>6</th>\n",
       "      <td>AGULAR ELLIOT</td>\n",
       "      <td>M</td>\n",
       "      <td>Analyst</td>\n",
       "      <td>22.0</td>\n",
       "      <td>40339</td>\n",
       "      <td>Marketing</td>\n",
       "      <td>19.0</td>\n",
       "      <td>11.0</td>\n",
       "      <td>5.0</td>\n",
       "      <td>0</td>\n",
       "    </tr>\n",
       "  </tbody>\n",
       "</table>\n",
       "</div>"
      ],
      "text/plain": [
       "             NAME SEX DESIGNATION   AGE  SALARY       UNIT  LEAVES USED  \\\n",
       "0    ARMEN TOMASA   F     Analyst  21.0   44570    Finance         24.0   \n",
       "2      ANCY OLIVE   F     Analyst  21.0   40955    Finance         23.0   \n",
       "3  AQUILAR CHERRY   F     Analyst  22.0   45550         IT         22.0   \n",
       "5        VICTORIA   F     Analyst  22.0   48736  Marketing         20.0   \n",
       "6   AGULAR ELLIOT   M     Analyst  22.0   40339  Marketing         19.0   \n",
       "\n",
       "   LEAVES REMAINING  RATINGS  PAST EXP  \n",
       "0               6.0      2.0         0  \n",
       "2               7.0      3.0         0  \n",
       "3               8.0      3.0         0  \n",
       "5              10.0      4.0         0  \n",
       "6              11.0      5.0         0  "
      ]
     },
     "execution_count": 21,
     "metadata": {},
     "output_type": "execute_result"
    }
   ],
   "source": [
    "df.head(5)"
   ]
  },
  {
   "cell_type": "code",
   "execution_count": 22,
   "id": "f1577d23-3feb-436f-b6c1-561ee6faf505",
   "metadata": {},
   "outputs": [
    {
     "data": {
      "text/plain": [
       "DESIGNATION\n",
       "Analyst           1850\n",
       "Senior Analyst     301\n",
       "Associate          155\n",
       "Manager             79\n",
       "Senior Manager      60\n",
       "Director            27\n",
       "Name: count, dtype: int64"
      ]
     },
     "execution_count": 22,
     "metadata": {},
     "output_type": "execute_result"
    }
   ],
   "source": [
    "df['DESIGNATION'].value_counts() # далее смотрю на баланс классов - всё очень плохо"
   ]
  },
  {
   "cell_type": "code",
   "execution_count": 23,
   "id": "25b4db20-ca60-49cf-89ef-252cd58d9e91",
   "metadata": {},
   "outputs": [
    {
     "data": {
      "text/plain": [
       "NAME                 object\n",
       "SEX                  object\n",
       "DESIGNATION          object\n",
       "AGE                 float64\n",
       "SALARY                int64\n",
       "UNIT                 object\n",
       "LEAVES USED         float64\n",
       "LEAVES REMAINING    float64\n",
       "RATINGS             float64\n",
       "PAST EXP              int64\n",
       "dtype: object"
      ]
     },
     "execution_count": 23,
     "metadata": {},
     "output_type": "execute_result"
    }
   ],
   "source": [
    "df.dtypes"
   ]
  },
  {
   "cell_type": "code",
   "execution_count": 24,
   "id": "0b1b01a7-306d-4b35-b2eb-bf13678c03f1",
   "metadata": {},
   "outputs": [
    {
     "data": {
      "text/html": [
       "<div>\n",
       "<style scoped>\n",
       "    .dataframe tbody tr th:only-of-type {\n",
       "        vertical-align: middle;\n",
       "    }\n",
       "\n",
       "    .dataframe tbody tr th {\n",
       "        vertical-align: top;\n",
       "    }\n",
       "\n",
       "    .dataframe thead th {\n",
       "        text-align: right;\n",
       "    }\n",
       "</style>\n",
       "<table border=\"1\" class=\"dataframe\">\n",
       "  <thead>\n",
       "    <tr style=\"text-align: right;\">\n",
       "      <th></th>\n",
       "      <th>NAME</th>\n",
       "      <th>SEX</th>\n",
       "      <th>DESIGNATION</th>\n",
       "      <th>AGE</th>\n",
       "      <th>SALARY</th>\n",
       "      <th>UNIT</th>\n",
       "      <th>LEAVES USED</th>\n",
       "      <th>LEAVES REMAINING</th>\n",
       "      <th>RATINGS</th>\n",
       "      <th>PAST EXP</th>\n",
       "    </tr>\n",
       "  </thead>\n",
       "  <tbody>\n",
       "    <tr>\n",
       "      <th>0</th>\n",
       "      <td>ARMEN TOMASA</td>\n",
       "      <td>F</td>\n",
       "      <td>Analyst</td>\n",
       "      <td>21.0</td>\n",
       "      <td>44570</td>\n",
       "      <td>Finance</td>\n",
       "      <td>24.0</td>\n",
       "      <td>6.0</td>\n",
       "      <td>2.0</td>\n",
       "      <td>0</td>\n",
       "    </tr>\n",
       "  </tbody>\n",
       "</table>\n",
       "</div>"
      ],
      "text/plain": [
       "           NAME SEX DESIGNATION   AGE  SALARY     UNIT  LEAVES USED  \\\n",
       "0  ARMEN TOMASA   F     Analyst  21.0   44570  Finance         24.0   \n",
       "\n",
       "   LEAVES REMAINING  RATINGS  PAST EXP  \n",
       "0               6.0      2.0         0  "
      ]
     },
     "execution_count": 24,
     "metadata": {},
     "output_type": "execute_result"
    }
   ],
   "source": [
    "df.head(1)"
   ]
  },
  {
   "cell_type": "code",
   "execution_count": 25,
   "id": "a2349d90-9175-43b7-a707-a9b842bccafc",
   "metadata": {},
   "outputs": [
    {
     "name": "stdout",
     "output_type": "stream",
     "text": [
      "                NAME:  2472\n",
      "                 SEX:     2\n",
      "         DESIGNATION:     6\n",
      "                 AGE:    25\n",
      "              SALARY:  2300\n",
      "                UNIT:     6\n",
      "         LEAVES USED:    16\n",
      "    LEAVES REMAINING:    16\n",
      "             RATINGS:     4\n",
      "            PAST EXP:    21\n"
     ]
    }
   ],
   "source": [
    "for i in df:\n",
    "    print(f'{i.rjust(20)}: {str(df[i].nunique()).rjust(5)}')# - {df[i].unique()}')"
   ]
  },
  {
   "cell_type": "code",
   "execution_count": 26,
   "id": "d24a11a5-2aa6-43a0-9d02-63e810c68245",
   "metadata": {},
   "outputs": [],
   "source": [
    "df = df.astype({'AGE': 'int', 'DESIGNATION' : 'category'})"
   ]
  },
  {
   "cell_type": "code",
   "execution_count": 27,
   "id": "caa6603d-b6f7-49bf-95b0-b35ed41f8b0f",
   "metadata": {},
   "outputs": [],
   "source": [
    "df.SEX = pd.Categorical(df.SEX).codes"
   ]
  },
  {
   "cell_type": "code",
   "execution_count": 28,
   "id": "e74a5b60-1fe5-421a-be92-fa4ae17794d5",
   "metadata": {},
   "outputs": [
    {
     "name": "stdout",
     "output_type": "stream",
     "text": [
      "PAST EXP\n",
      "0     1226\n",
      "1      460\n",
      "2      340\n",
      "3      152\n",
      "4       51\n",
      "5       51\n",
      "6       46\n",
      "7       25\n",
      "8       27\n",
      "9       16\n",
      "10      20\n",
      "11      17\n",
      "12      10\n",
      "13      10\n",
      "14       4\n",
      "15       5\n",
      "16       3\n",
      "17       5\n",
      "18       2\n",
      "19       1\n",
      "23       1\n",
      "Name: NAME, dtype: int64\n",
      "RATINGS\n",
      "2.0    630\n",
      "3.0    619\n",
      "4.0    625\n",
      "5.0    598\n",
      "Name: NAME, dtype: int64\n"
     ]
    }
   ],
   "source": [
    "for name in ('PAST EXP', 'RATINGS'): #values_counts() но я хочу показать что знаю groupby\n",
    "    print(df.groupby(name).count().iloc[:, 0])"
   ]
  },
  {
   "cell_type": "code",
   "execution_count": 29,
   "id": "9dd6e2c7-6f55-4e54-92eb-397c5b5c10d9",
   "metadata": {},
   "outputs": [
    {
     "data": {
      "image/png": "[encoded data removed]",
      "text/plain": [
       "<Figure size 1000x1000 with 9 Axes>"
      ]
     },
     "metadata": {},
     "output_type": "display_data"
    }
   ],
   "source": [
    "fig, axes = plt.subplots(3, 3, figsize=(10, 10))\n",
    "names = ('DESIGNATION', 'AGE', 'SALARY', 'UNIT', 'LEAVES USED', 'LEAVES REMAINING', 'RATINGS', 'PAST EXP', 'SEX')\n",
    "\n",
    "for i in range(9):\n",
    "    \n",
    "    axes[i // 3, i % 3].hist(df[names[i]], bins=50)\n",
    "    axes[i // 3, i % 3].legend((names[i], ))\n",
    "    "
   ]
  },
  {
   "cell_type": "code",
   "execution_count": 30,
   "id": "ba2de455-65f6-4d60-8837-1d95c87bd645",
   "metadata": {},
   "outputs": [
    {
     "data": {
      "image/png": "[encoded data removed]",
      "text/plain": [
       "<Figure size 1000x1000 with 6 Axes>"
      ]
     },
     "metadata": {},
     "output_type": "display_data"
    }
   ],
   "source": [
    "# for col in data.columns:\n",
    "#     plt.figure(figsize=(8, 6))\n",
    "#     plt.boxplot(data[col])\n",
    "#     plt.title(f'{col}')\n",
    "#     plt.show()\n",
    "\n",
    "fig, axes = plt.subplots(2, 3, figsize=(10, 10))\n",
    "names = ('AGE', 'SALARY', 'LEAVES USED', 'LEAVES REMAINING', 'RATINGS', 'PAST EXP', )\n",
    "\n",
    "for i in range(6):\n",
    "    \n",
    "    axes[i // 3, i % 3].boxplot(df[names[i]])\n",
    "    axes[i // 3, i % 3].legend((names[i], ))"
   ]
  },
  {
   "cell_type": "raw",
   "id": "737a9629-8dd2-4e15-a617-635a856ea637",
   "metadata": {},
   "source": [
    "def remove_outliers(df):\n",
    "    for col in df.select_dtypes(include='number').columns:\n",
    "        q1 = df[col].quantile(0.25)\n",
    "        q3 = df[col].quantile(0.75)\n",
    "        iqr = q3 - q1\n",
    "        lower_bound = q1 - 1.5 * iqr\n",
    "        upper_bound = q3 + 1.5 * iqr\n",
    "        outliers=(df[col] < lower_bound ) | (df[col] > upper_bound)\n",
    "        df=df[~outliers]\n",
    "    return df\n",
    "df = remove_outliers(df)"
   ]
  },
  {
   "cell_type": "markdown",
   "id": "85fd8e39-c007-471d-997f-5e00be83feb9",
   "metadata": {},
   "source": [
    "### baseline"
   ]
  },
  {
   "cell_type": "code",
   "execution_count": 31,
   "id": "c9733fa6-7459-43fc-8934-48081b15fa30",
   "metadata": {},
   "outputs": [
    {
     "data": {
      "text/plain": [
       "Index(['NAME', 'SEX', 'DESIGNATION', 'AGE', 'SALARY', 'UNIT', 'LEAVES USED',\n",
       "       'LEAVES REMAINING', 'RATINGS', 'PAST EXP'],\n",
       "      dtype='object')"
      ]
     },
     "execution_count": 31,
     "metadata": {},
     "output_type": "execute_result"
    }
   ],
   "source": [
    "df.columns"
   ]
  },
  {
   "cell_type": "code",
   "execution_count": 39,
   "id": "40407f98-0a4d-4e5d-9498-9154eb7d6219",
   "metadata": {},
   "outputs": [],
   "source": [
    "data = df.drop(['NAME', 'LEAVES USED', 'LEAVES REMAINING', 'RATINGS', 'PAST EXP'], axis=1)"
   ]
  },
  {
   "cell_type": "code",
   "execution_count": 40,
   "id": "9b2ec442-dbc2-422f-8763-85176fb8fd5e",
   "metadata": {},
   "outputs": [
    {
     "data": {
      "text/html": [
       "<div>\n",
       "<style scoped>\n",
       "    .dataframe tbody tr th:only-of-type {\n",
       "        vertical-align: middle;\n",
       "    }\n",
       "\n",
       "    .dataframe tbody tr th {\n",
       "        vertical-align: top;\n",
       "    }\n",
       "\n",
       "    .dataframe thead th {\n",
       "        text-align: right;\n",
       "    }\n",
       "</style>\n",
       "<table border=\"1\" class=\"dataframe\">\n",
       "  <thead>\n",
       "    <tr style=\"text-align: right;\">\n",
       "      <th></th>\n",
       "      <th>SEX</th>\n",
       "      <th>DESIGNATION</th>\n",
       "      <th>AGE</th>\n",
       "      <th>SALARY</th>\n",
       "      <th>UNIT</th>\n",
       "    </tr>\n",
       "  </thead>\n",
       "  <tbody>\n",
       "    <tr>\n",
       "      <th>0</th>\n",
       "      <td>0</td>\n",
       "      <td>Analyst</td>\n",
       "      <td>21</td>\n",
       "      <td>44570</td>\n",
       "      <td>Finance</td>\n",
       "    </tr>\n",
       "    <tr>\n",
       "      <th>2</th>\n",
       "      <td>0</td>\n",
       "      <td>Analyst</td>\n",
       "      <td>21</td>\n",
       "      <td>40955</td>\n",
       "      <td>Finance</td>\n",
       "    </tr>\n",
       "    <tr>\n",
       "      <th>3</th>\n",
       "      <td>0</td>\n",
       "      <td>Analyst</td>\n",
       "      <td>22</td>\n",
       "      <td>45550</td>\n",
       "      <td>IT</td>\n",
       "    </tr>\n",
       "    <tr>\n",
       "      <th>5</th>\n",
       "      <td>0</td>\n",
       "      <td>Analyst</td>\n",
       "      <td>22</td>\n",
       "      <td>48736</td>\n",
       "      <td>Marketing</td>\n",
       "    </tr>\n",
       "    <tr>\n",
       "      <th>6</th>\n",
       "      <td>1</td>\n",
       "      <td>Analyst</td>\n",
       "      <td>22</td>\n",
       "      <td>40339</td>\n",
       "      <td>Marketing</td>\n",
       "    </tr>\n",
       "    <tr>\n",
       "      <th>...</th>\n",
       "      <td>...</td>\n",
       "      <td>...</td>\n",
       "      <td>...</td>\n",
       "      <td>...</td>\n",
       "      <td>...</td>\n",
       "    </tr>\n",
       "    <tr>\n",
       "      <th>2634</th>\n",
       "      <td>0</td>\n",
       "      <td>Senior Manager</td>\n",
       "      <td>36</td>\n",
       "      <td>185977</td>\n",
       "      <td>Management</td>\n",
       "    </tr>\n",
       "    <tr>\n",
       "      <th>2635</th>\n",
       "      <td>0</td>\n",
       "      <td>Analyst</td>\n",
       "      <td>23</td>\n",
       "      <td>45758</td>\n",
       "      <td>IT</td>\n",
       "    </tr>\n",
       "    <tr>\n",
       "      <th>2636</th>\n",
       "      <td>0</td>\n",
       "      <td>Analyst</td>\n",
       "      <td>21</td>\n",
       "      <td>47315</td>\n",
       "      <td>Web</td>\n",
       "    </tr>\n",
       "    <tr>\n",
       "      <th>2637</th>\n",
       "      <td>0</td>\n",
       "      <td>Analyst</td>\n",
       "      <td>24</td>\n",
       "      <td>45172</td>\n",
       "      <td>Web</td>\n",
       "    </tr>\n",
       "    <tr>\n",
       "      <th>2638</th>\n",
       "      <td>1</td>\n",
       "      <td>Analyst</td>\n",
       "      <td>24</td>\n",
       "      <td>49176</td>\n",
       "      <td>Marketing</td>\n",
       "    </tr>\n",
       "  </tbody>\n",
       "</table>\n",
       "<p>2472 rows × 5 columns</p>\n",
       "</div>"
      ],
      "text/plain": [
       "      SEX     DESIGNATION  AGE  SALARY        UNIT\n",
       "0       0         Analyst   21   44570     Finance\n",
       "2       0         Analyst   21   40955     Finance\n",
       "3       0         Analyst   22   45550          IT\n",
       "5       0         Analyst   22   48736   Marketing\n",
       "6       1         Analyst   22   40339   Marketing\n",
       "...   ...             ...  ...     ...         ...\n",
       "2634    0  Senior Manager   36  185977  Management\n",
       "2635    0         Analyst   23   45758          IT\n",
       "2636    0         Analyst   21   47315         Web\n",
       "2637    0         Analyst   24   45172         Web\n",
       "2638    1         Analyst   24   49176   Marketing\n",
       "\n",
       "[2472 rows x 5 columns]"
      ]
     },
     "execution_count": 40,
     "metadata": {},
     "output_type": "execute_result"
    }
   ],
   "source": [
    "data"
   ]
  },
  {
   "cell_type": "code",
   "execution_count": 41,
   "id": "5bbedebf-7d6c-4c10-bd65-b9152c8b6fae",
   "metadata": {},
   "outputs": [],
   "source": [
    "x_train, x_test, y_train, y_test = train_test_split(data.drop(['SALARY'], axis=1), data['SALARY'], test_size=0.3, random_state=42) # цену от всего"
   ]
  },
  {
   "cell_type": "code",
   "execution_count": 42,
   "id": "95468b17-77e7-4081-b6bf-5443b228d4d2",
   "metadata": {},
   "outputs": [],
   "source": [
    "median = np.full((len(y_test), 1), np.median(y_train))\n",
    "mean = np.full((len(y_test), 1), np.mean(y_train)) "
   ]
  },
  {
   "cell_type": "code",
   "execution_count": 43,
   "id": "80fa0f59-1e69-4080-aa10-3ba92a4659ef",
   "metadata": {},
   "outputs": [
    {
     "name": "stdout",
     "output_type": "stream",
     "text": [
      "MSE for median: 1066149560.6617\n",
      "MAE for median: 13600.7588\n",
      "\n",
      "MSE for mean: 959553858.2146\n",
      "MAE for mean: 18704.1347\n"
     ]
    }
   ],
   "source": [
    "print(f'MSE for median: {mean_squared_error(y_test, median):.4f}')\n",
    "print(f'MAE for median: {mean_absolute_error(y_test, median):.4f}')\n",
    "print()\n",
    "print(f'MSE for mean: {mean_squared_error(y_test, mean):.4f}')\n",
    "print(f'MAE for mean: {mean_absolute_error(y_test, mean):.4f}')\n",
    "mse_med, mae_med = mean_squared_error(y_test, median), mean_absolute_error(y_test, median)\n",
    "mse_mea, mae_mea = mean_squared_error(y_test, mean), mean_absolute_error(y_test, mean)"
   ]
  },
  {
   "cell_type": "code",
   "execution_count": 44,
   "id": "07156e05-70d2-4289-80af-998077657407",
   "metadata": {},
   "outputs": [
    {
     "data": {
      "text/plain": [
       "[<matplotlib.lines.Line2D at 0x207fc8d1900>]"
      ]
     },
     "execution_count": 44,
     "metadata": {},
     "output_type": "execute_result"
    },
    {
     "data": {
      "image/png": "[encoded data removed]",
      "text/plain": [
       "<Figure size 640x480 with 1 Axes>"
      ]
     },
     "metadata": {},
     "output_type": "display_data"
    }
   ],
   "source": [
    "plt.plot(np.sort(np.array(y_test)).reshape(-1))\n",
    "plt.plot(median.reshape(-1))\n",
    "plt.plot(mean.reshape(-1))"
   ]
  },
  {
   "cell_type": "markdown",
   "id": "821d84b3-6970-4d10-a451-3884d2c20ac8",
   "metadata": {},
   "source": [
    "### LinearRegression"
   ]
  },
  {
   "cell_type": "code",
   "execution_count": 45,
   "id": "9d7e7acd-b1c3-455c-a4a2-6f704264f8bb",
   "metadata": {},
   "outputs": [],
   "source": [
    "ord_enc = OrdinalEncoder()"
   ]
  },
  {
   "cell_type": "code",
   "execution_count": 46,
   "id": "6515f38e-a7d8-45b7-86b6-52cd146f7fd2",
   "metadata": {},
   "outputs": [],
   "source": [
    "enc_sample = data.loc[:, ['UNIT', 'DESIGNATION']]\n",
    "ord_enc.fit(enc_sample)\n",
    "data.loc[:, ['UNIT', 'DESIGNATION']] = ord_enc.transform(data.loc[:, ['UNIT', 'DESIGNATION']])"
   ]
  },
  {
   "cell_type": "code",
   "execution_count": 47,
   "id": "5e32d0b7-e676-4bc5-a5ca-cd93d2355598",
   "metadata": {},
   "outputs": [
    {
     "data": {
      "text/html": [
       "<div>\n",
       "<style scoped>\n",
       "    .dataframe tbody tr th:only-of-type {\n",
       "        vertical-align: middle;\n",
       "    }\n",
       "\n",
       "    .dataframe tbody tr th {\n",
       "        vertical-align: top;\n",
       "    }\n",
       "\n",
       "    .dataframe thead th {\n",
       "        text-align: right;\n",
       "    }\n",
       "</style>\n",
       "<table border=\"1\" class=\"dataframe\">\n",
       "  <thead>\n",
       "    <tr style=\"text-align: right;\">\n",
       "      <th></th>\n",
       "      <th>SEX</th>\n",
       "      <th>DESIGNATION</th>\n",
       "      <th>AGE</th>\n",
       "      <th>SALARY</th>\n",
       "      <th>UNIT</th>\n",
       "    </tr>\n",
       "  </thead>\n",
       "  <tbody>\n",
       "    <tr>\n",
       "      <th>0</th>\n",
       "      <td>0</td>\n",
       "      <td>0.0</td>\n",
       "      <td>21</td>\n",
       "      <td>44570</td>\n",
       "      <td>0.0</td>\n",
       "    </tr>\n",
       "    <tr>\n",
       "      <th>2</th>\n",
       "      <td>0</td>\n",
       "      <td>0.0</td>\n",
       "      <td>21</td>\n",
       "      <td>40955</td>\n",
       "      <td>0.0</td>\n",
       "    </tr>\n",
       "    <tr>\n",
       "      <th>3</th>\n",
       "      <td>0</td>\n",
       "      <td>0.0</td>\n",
       "      <td>22</td>\n",
       "      <td>45550</td>\n",
       "      <td>1.0</td>\n",
       "    </tr>\n",
       "  </tbody>\n",
       "</table>\n",
       "</div>"
      ],
      "text/plain": [
       "   SEX  DESIGNATION  AGE  SALARY UNIT\n",
       "0    0          0.0   21   44570  0.0\n",
       "2    0          0.0   21   40955  0.0\n",
       "3    0          0.0   22   45550  1.0"
      ]
     },
     "execution_count": 47,
     "metadata": {},
     "output_type": "execute_result"
    }
   ],
   "source": [
    "data.head(3)"
   ]
  },
  {
   "cell_type": "code",
   "execution_count": 48,
   "id": "085970f7-d343-4464-9c20-462c9c287b1f",
   "metadata": {},
   "outputs": [],
   "source": [
    "x_train, x_test, y_train, y_test = train_test_split(data.drop(['SALARY'], axis=1), data['SALARY'], test_size=0.3, random_state=42) # цену от всего"
   ]
  },
  {
   "cell_type": "code",
   "execution_count": 49,
   "id": "f97e370b-a2f2-4c3e-aa60-0a092d246f74",
   "metadata": {},
   "outputs": [
    {
     "name": "stdout",
     "output_type": "stream",
     "text": [
      "Index(['SEX', 'DESIGNATION', 'AGE', 'SALARY', 'UNIT'], dtype='object')\n",
      "[-2043.5068034  -2127.65313574  9016.40879554   -22.98136829]\n",
      "-161759.06615273823\n"
     ]
    }
   ],
   "source": [
    "linear_model = LinearRegression()\n",
    "linear_model.fit(x_train, y_train)\n",
    "print(data.columns)\n",
    "print(linear_model.coef_) # массив весов\n",
    "print(linear_model.intercept_) # значение смещения"
   ]
  },
  {
   "cell_type": "code",
   "execution_count": 50,
   "id": "3514d910-4352-4eb0-8d2f-b0984be96853",
   "metadata": {},
   "outputs": [],
   "source": [
    "y_pred = linear_model.predict(x_test)"
   ]
  },
  {
   "cell_type": "code",
   "execution_count": 51,
   "id": "37bd672a-36ef-4bab-9c66-a950e4009f4d",
   "metadata": {},
   "outputs": [
    {
     "name": "stdout",
     "output_type": "stream",
     "text": [
      "MSE for linear model: 270364611.3437\n",
      "MAE for linear model: 13070.8540\n"
     ]
    },
    {
     "data": {
      "text/plain": [
       "(689189246.8708992, 529.904778893726)"
      ]
     },
     "execution_count": 51,
     "metadata": {},
     "output_type": "execute_result"
    }
   ],
   "source": [
    "print(f'MSE for linear model: {mean_squared_error(y_test, y_pred):.4f}')\n",
    "print(f'MAE for linear model: {mean_absolute_error(y_test, y_pred):.4f}')\n",
    "mse_lin, mae_lin = mean_squared_error(y_test, y_pred), mean_absolute_error(y_test, y_pred)\n",
    "mse_mea - mse_lin, mae_med - mae_lin"
   ]
  },
  {
   "cell_type": "code",
   "execution_count": 52,
   "id": "8df116bf-b953-45d0-be11-57daf6c54046",
   "metadata": {},
   "outputs": [],
   "source": [
    "norma = Normalizer()\n",
    "norma.fit(x_train)\n",
    "x_ntrain = norma.transform(x_train)\n",
    "x_ntest = norma.transform(x_test)"
   ]
  },
  {
   "cell_type": "code",
   "execution_count": 53,
   "id": "257e65ee-0d8f-4816-a6c4-df61f2c7206d",
   "metadata": {},
   "outputs": [
    {
     "name": "stdout",
     "output_type": "stream",
     "text": [
      "Index(['SEX', 'DESIGNATION', 'AGE', 'SALARY', 'UNIT'], dtype='object')\n",
      "[ -86527.60639465  538446.23532537 3571941.74726038  323127.90519656]\n",
      "-3523108.959207338\n",
      "MSE for linear model: 717593420.6722\n",
      "MAE for linear model: 17350.7089\n"
     ]
    },
    {
     "data": {
      "text/plain": [
       "(-447228809.3284782, -4279.854905595112)"
      ]
     },
     "execution_count": 53,
     "metadata": {},
     "output_type": "execute_result"
    }
   ],
   "source": [
    "linear_model = LinearRegression()\n",
    "linear_model.fit(x_ntrain, y_train)\n",
    "print(data.columns)\n",
    "print(linear_model.coef_) # массив весов\n",
    "print(linear_model.intercept_) # значение смещения\n",
    "\n",
    "y_pred = linear_model.predict(x_ntest)\n",
    "\n",
    "print(f'MSE for linear model: {mean_squared_error(y_test, y_pred):.4f}')\n",
    "print(f'MAE for linear model: {mean_absolute_error(y_test, y_pred):.4f}')\n",
    "mse_nlin, mae_nlin = mean_squared_error(y_test, y_pred), mean_absolute_error(y_test, y_pred)\n",
    "mse_lin - mse_nlin, mae_lin - mae_nlin"
   ]
  },
  {
   "cell_type": "code",
   "execution_count": 54,
   "id": "72276879-c1d5-4175-b939-23936e6174a8",
   "metadata": {},
   "outputs": [],
   "source": [
    "poly = PolynomialFeatures(degree=2)\n",
    "x_train_poly = poly.fit_transform(x_train)\n",
    "x_test_poly = poly.fit_transform(x_test)"
   ]
  },
  {
   "cell_type": "code",
   "execution_count": 55,
   "id": "d89fc221-bbec-47d9-ba6b-76179a981d55",
   "metadata": {},
   "outputs": [
    {
     "name": "stdout",
     "output_type": "stream",
     "text": [
      "Index(['SEX', 'DESIGNATION', 'AGE', 'SALARY', 'UNIT'], dtype='object')\n",
      "[     0.          14029.81900929   3034.63647049 -23261.10288308\n",
      "   6399.8049537   14029.81900929   1801.74763785  -1289.76708115\n",
      "    635.89938909  -3204.97544804    416.68063746    146.12459187\n",
      "    538.43011239   -240.46912335   -210.59198369]\n",
      "294059.36378053966\n",
      "MSE for linear model: 94275856.2977\n",
      "MAE for linear model: 5521.7438\n"
     ]
    },
    {
     "data": {
      "text/plain": [
       "(176088755.04604012, 7549.110208958885)"
      ]
     },
     "execution_count": 55,
     "metadata": {},
     "output_type": "execute_result"
    }
   ],
   "source": [
    "linear_model = LinearRegression()\n",
    "linear_model.fit(x_train_poly, y_train)\n",
    "print(data.columns)\n",
    "print(linear_model.coef_) # массив весов\n",
    "print(linear_model.intercept_) # значение смещения\n",
    "\n",
    "y_pred = linear_model.predict(x_test_poly)\n",
    "\n",
    "print(f'MSE for linear model: {mean_squared_error(y_test, y_pred):.4f}')\n",
    "print(f'MAE for linear model: {mean_absolute_error(y_test, y_pred):.4f}')\n",
    "mse_plin, mae_plin = mean_squared_error(y_test, y_pred), mean_absolute_error(y_test, y_pred)\n",
    "mse_lin - mse_plin, mae_lin - mae_plin"
   ]
  },
  {
   "cell_type": "code",
   "execution_count": 56,
   "id": "f27dd750-774f-4091-b54f-f1b4937637cd",
   "metadata": {},
   "outputs": [
    {
     "name": "stdout",
     "output_type": "stream",
     "text": [
      "Предсказание: 45054.2, суровая реальность: 49826.0, дельта: -4771.8\n",
      "Предсказание: 123441.3, суровая реальность: 128247.0, дельта: -4805.7\n",
      "Предсказание: 51577.6, суровая реальность: 56028.0, дельта: -4450.4\n"
     ]
    }
   ],
   "source": [
    "y_test = np.array(y_test)\n",
    "for i in range(3):\n",
    "    print(f'Предсказание: {y_pred[i]:.1f}, суровая реальность: {y_test[i]:.1f}, дельта: {(y_pred[i] - y_test[i]):.1f}')\n"
   ]
  },
  {
   "cell_type": "code",
   "execution_count": 57,
   "id": "ec0d1e17-73c9-40a4-a93f-55d29b5c8b47",
   "metadata": {},
   "outputs": [],
   "source": [
    "delta = y_test - y_pred"
   ]
  },
  {
   "cell_type": "code",
   "execution_count": 58,
   "id": "ddbfcf76-5d03-48c3-a472-c7ae78f9d2cb",
   "metadata": {},
   "outputs": [
    {
     "data": {
      "image/png": "[encoded data removed]",
      "text/plain": [
       "<Figure size 640x480 with 1 Axes>"
      ]
     },
     "metadata": {},
     "output_type": "display_data"
    }
   ],
   "source": [
    "plt.scatter(y_test, delta) # как и видим - из-за кривой выборки чем ближе к краю выборки, тем хуже\n",
    "plt.grid() # а вообще..."
   ]
  },
  {
   "cell_type": "code",
   "execution_count": 59,
   "id": "cf118523-9b6a-4836-b488-6b7ce1954210",
   "metadata": {},
   "outputs": [
    {
     "data": {
      "text/plain": [
       "<matplotlib.collections.PathCollection at 0x207fcab7760>"
      ]
     },
     "execution_count": 59,
     "metadata": {},
     "output_type": "execute_result"
    },
    {
     "data": {
      "image/png": "[encoded data removed]",
      "text/plain": [
       "<Figure size 640x480 with 1 Axes>"
      ]
     },
     "metadata": {},
     "output_type": "display_data"
    }
   ],
   "source": [
    "plt.scatter(y_test, y_pred)"
   ]
  },
  {
   "cell_type": "markdown",
   "id": "132305cd-ad3d-4b2e-b882-f55c39bb03e4",
   "metadata": {},
   "source": [
    "### DecisionTreeRegressor"
   ]
  },
  {
   "cell_type": "code",
   "execution_count": 60,
   "id": "d952a8c1-23d9-4e7a-903c-8d67017b7763",
   "metadata": {},
   "outputs": [
    {
     "data": {
      "text/html": [
       "<style>#sk-container-id-1 {color: black;}#sk-container-id-1 pre{padding: 0;}#sk-container-id-1 div.sk-toggleable {background-color: white;}#sk-container-id-1 label.sk-toggleable__label {cursor: pointer;display: block;width: 100%;margin-bottom: 0;padding: 0.3em;box-sizing: border-box;text-align: center;}#sk-container-id-1 label.sk-toggleable__label-arrow:before {content: \"▸\";float: left;margin-right: 0.25em;color: #696969;}#sk-container-id-1 label.sk-toggleable__label-arrow:hover:before {color: black;}#sk-container-id-1 div.sk-estimator:hover label.sk-toggleable__label-arrow:before {color: black;}#sk-container-id-1 div.sk-toggleable__content {max-height: 0;max-width: 0;overflow: hidden;text-align: left;background-color: #f0f8ff;}#sk-container-id-1 div.sk-toggleable__content pre {margin: 0.2em;color: black;border-radius: 0.25em;background-color: #f0f8ff;}#sk-container-id-1 input.sk-toggleable__control:checked~div.sk-toggleable__content {max-height: 200px;max-width: 100%;overflow: auto;}#sk-container-id-1 input.sk-toggleable__control:checked~label.sk-toggleable__label-arrow:before {content: \"▾\";}#sk-container-id-1 div.sk-estimator input.sk-toggleable__control:checked~label.sk-toggleable__label {background-color: #d4ebff;}#sk-container-id-1 div.sk-label input.sk-toggleable__control:checked~label.sk-toggleable__label {background-color: #d4ebff;}#sk-container-id-1 input.sk-hidden--visually {border: 0;clip: rect(1px 1px 1px 1px);clip: rect(1px, 1px, 1px, 1px);height: 1px;margin: -1px;overflow: hidden;padding: 0;position: absolute;width: 1px;}#sk-container-id-1 div.sk-estimator {font-family: monospace;background-color: #f0f8ff;border: 1px dotted black;border-radius: 0.25em;box-sizing: border-box;margin-bottom: 0.5em;}#sk-container-id-1 div.sk-estimator:hover {background-color: #d4ebff;}#sk-container-id-1 div.sk-parallel-item::after {content: \"\";width: 100%;border-bottom: 1px solid gray;flex-grow: 1;}#sk-container-id-1 div.sk-label:hover label.sk-toggleable__label {background-color: #d4ebff;}#sk-container-id-1 div.sk-serial::before {content: \"\";position: absolute;border-left: 1px solid gray;box-sizing: border-box;top: 0;bottom: 0;left: 50%;z-index: 0;}#sk-container-id-1 div.sk-serial {display: flex;flex-direction: column;align-items: center;background-color: white;padding-right: 0.2em;padding-left: 0.2em;position: relative;}#sk-container-id-1 div.sk-item {position: relative;z-index: 1;}#sk-container-id-1 div.sk-parallel {display: flex;align-items: stretch;justify-content: center;background-color: white;position: relative;}#sk-container-id-1 div.sk-item::before, #sk-container-id-1 div.sk-parallel-item::before {content: \"\";position: absolute;border-left: 1px solid gray;box-sizing: border-box;top: 0;bottom: 0;left: 50%;z-index: -1;}#sk-container-id-1 div.sk-parallel-item {display: flex;flex-direction: column;z-index: 1;position: relative;background-color: white;}#sk-container-id-1 div.sk-parallel-item:first-child::after {align-self: flex-end;width: 50%;}#sk-container-id-1 div.sk-parallel-item:last-child::after {align-self: flex-start;width: 50%;}#sk-container-id-1 div.sk-parallel-item:only-child::after {width: 0;}#sk-container-id-1 div.sk-dashed-wrapped {border: 1px dashed gray;margin: 0 0.4em 0.5em 0.4em;box-sizing: border-box;padding-bottom: 0.4em;background-color: white;}#sk-container-id-1 div.sk-label label {font-family: monospace;font-weight: bold;display: inline-block;line-height: 1.2em;}#sk-container-id-1 div.sk-label-container {text-align: center;}#sk-container-id-1 div.sk-container {/* jupyter's `normalize.less` sets `[hidden] { display: none; }` but bootstrap.min.css set `[hidden] { display: none !important; }` so we also need the `!important` here to be able to override the default hidden behavior on the sphinx rendered scikit-learn.org. See: https://github.com/scikit-learn/scikit-learn/issues/21755 */display: inline-block !important;position: relative;}#sk-container-id-1 div.sk-text-repr-fallback {display: none;}</style><div id=\"sk-container-id-1\" class=\"sk-top-container\"><div class=\"sk-text-repr-fallback\"><pre>DecisionTreeRegressor()</pre><b>In a Jupyter environment, please rerun this cell to show the HTML representation or trust the notebook. <br />On GitHub, the HTML representation is unable to render, please try loading this page with nbviewer.org.</b></div><div class=\"sk-container\" hidden><div class=\"sk-item\"><div class=\"sk-estimator sk-toggleable\"><input class=\"sk-toggleable__control sk-hidden--visually\" id=\"sk-estimator-id-1\" type=\"checkbox\" checked><label for=\"sk-estimator-id-1\" class=\"sk-toggleable__label sk-toggleable__label-arrow\">DecisionTreeRegressor</label><div class=\"sk-toggleable__content\"><pre>DecisionTreeRegressor()</pre></div></div></div></div></div>"
      ],
      "text/plain": [
       "DecisionTreeRegressor()"
      ]
     },
     "execution_count": 60,
     "metadata": {},
     "output_type": "execute_result"
    }
   ],
   "source": [
    "tree = DecisionTreeRegressor()\n",
    "tree.fit(x_train, y_train)"
   ]
  },
  {
   "cell_type": "code",
   "execution_count": 61,
   "id": "1e11f2e0-cac6-4462-9c98-cb3284372217",
   "metadata": {},
   "outputs": [
    {
     "name": "stdout",
     "output_type": "stream",
     "text": [
      "MSE for linear model: 66865513.7016\n",
      "MAE for linear model: 4581.3538\n"
     ]
    },
    {
     "data": {
      "text/plain": [
       "(203499097.64215916, 8489.500203853415)"
      ]
     },
     "execution_count": 61,
     "metadata": {},
     "output_type": "execute_result"
    }
   ],
   "source": [
    "y_pred = tree.predict(x_test)\n",
    "\n",
    "print(f'MSE for linear model: {mean_squared_error(y_test, y_pred):.4f}')\n",
    "print(f'MAE for linear model: {mean_absolute_error(y_test, y_pred):.4f}')\n",
    "mse_tre, mae_tre = mean_squared_error(y_test, y_pred), mean_absolute_error(y_test, y_pred)\n",
    "mse_lin - mse_tre, mae_lin - mae_tre"
   ]
  },
  {
   "cell_type": "code",
   "execution_count": 62,
   "id": "de47713a-637f-450d-9fa7-6a7309261f44",
   "metadata": {},
   "outputs": [
    {
     "name": "stdout",
     "output_type": "stream",
     "text": [
      "Предсказание: 45204.0, суровая реальность: 49826.0, дельта: -4622.0\n",
      "Предсказание: 112920.5, суровая реальность: 128247.0, дельта: -15326.5\n",
      "Предсказание: 58110.9, суровая реальность: 56028.0, дельта: 2082.9\n"
     ]
    },
    {
     "data": {
      "image/png": "[encoded data removed]",
      "text/plain": [
       "<Figure size 640x480 with 1 Axes>"
      ]
     },
     "metadata": {},
     "output_type": "display_data"
    }
   ],
   "source": [
    "y_test = np.array(y_test)\n",
    "for i in range(3):\n",
    "    print(f'Предсказание: {y_pred[i]:.1f}, суровая реальность: {y_test[i]:.1f}, дельта: {(y_pred[i] - y_test[i]):.1f}')\n",
    "delta = y_test - y_pred\n",
    "plt.scatter(y_test, delta) # как и видим - из-за кривой выборки чем ближе к краю выборки, тем хуже\n",
    "plt.grid()"
   ]
  },
  {
   "cell_type": "code",
   "execution_count": 63,
   "id": "b17e81d2-f62b-451b-897b-633230c17c10",
   "metadata": {},
   "outputs": [
    {
     "data": {
      "image/png": "[encoded data removed]",
      "text/plain": [
       "<Figure size 640x480 with 1 Axes>"
      ]
     },
     "metadata": {},
     "output_type": "display_data"
    }
   ],
   "source": [
    "plt.scatter(y_test, y_pred)\n",
    "plt.grid()"
   ]
  },
  {
   "cell_type": "markdown",
   "id": "18477be3-49f6-4f16-b400-57abfcd22cbe",
   "metadata": {},
   "source": [
    "### RandomForest"
   ]
  },
  {
   "cell_type": "code",
   "execution_count": 64,
   "id": "7b7bce81-fca3-4bce-a2f2-32a891d24452",
   "metadata": {},
   "outputs": [
    {
     "data": {
      "text/html": [
       "<style>#sk-container-id-2 {color: black;}#sk-container-id-2 pre{padding: 0;}#sk-container-id-2 div.sk-toggleable {background-color: white;}#sk-container-id-2 label.sk-toggleable__label {cursor: pointer;display: block;width: 100%;margin-bottom: 0;padding: 0.3em;box-sizing: border-box;text-align: center;}#sk-container-id-2 label.sk-toggleable__label-arrow:before {content: \"▸\";float: left;margin-right: 0.25em;color: #696969;}#sk-container-id-2 label.sk-toggleable__label-arrow:hover:before {color: black;}#sk-container-id-2 div.sk-estimator:hover label.sk-toggleable__label-arrow:before {color: black;}#sk-container-id-2 div.sk-toggleable__content {max-height: 0;max-width: 0;overflow: hidden;text-align: left;background-color: #f0f8ff;}#sk-container-id-2 div.sk-toggleable__content pre {margin: 0.2em;color: black;border-radius: 0.25em;background-color: #f0f8ff;}#sk-container-id-2 input.sk-toggleable__control:checked~div.sk-toggleable__content {max-height: 200px;max-width: 100%;overflow: auto;}#sk-container-id-2 input.sk-toggleable__control:checked~label.sk-toggleable__label-arrow:before {content: \"▾\";}#sk-container-id-2 div.sk-estimator input.sk-toggleable__control:checked~label.sk-toggleable__label {background-color: #d4ebff;}#sk-container-id-2 div.sk-label input.sk-toggleable__control:checked~label.sk-toggleable__label {background-color: #d4ebff;}#sk-container-id-2 input.sk-hidden--visually {border: 0;clip: rect(1px 1px 1px 1px);clip: rect(1px, 1px, 1px, 1px);height: 1px;margin: -1px;overflow: hidden;padding: 0;position: absolute;width: 1px;}#sk-container-id-2 div.sk-estimator {font-family: monospace;background-color: #f0f8ff;border: 1px dotted black;border-radius: 0.25em;box-sizing: border-box;margin-bottom: 0.5em;}#sk-container-id-2 div.sk-estimator:hover {background-color: #d4ebff;}#sk-container-id-2 div.sk-parallel-item::after {content: \"\";width: 100%;border-bottom: 1px solid gray;flex-grow: 1;}#sk-container-id-2 div.sk-label:hover label.sk-toggleable__label {background-color: #d4ebff;}#sk-container-id-2 div.sk-serial::before {content: \"\";position: absolute;border-left: 1px solid gray;box-sizing: border-box;top: 0;bottom: 0;left: 50%;z-index: 0;}#sk-container-id-2 div.sk-serial {display: flex;flex-direction: column;align-items: center;background-color: white;padding-right: 0.2em;padding-left: 0.2em;position: relative;}#sk-container-id-2 div.sk-item {position: relative;z-index: 1;}#sk-container-id-2 div.sk-parallel {display: flex;align-items: stretch;justify-content: center;background-color: white;position: relative;}#sk-container-id-2 div.sk-item::before, #sk-container-id-2 div.sk-parallel-item::before {content: \"\";position: absolute;border-left: 1px solid gray;box-sizing: border-box;top: 0;bottom: 0;left: 50%;z-index: -1;}#sk-container-id-2 div.sk-parallel-item {display: flex;flex-direction: column;z-index: 1;position: relative;background-color: white;}#sk-container-id-2 div.sk-parallel-item:first-child::after {align-self: flex-end;width: 50%;}#sk-container-id-2 div.sk-parallel-item:last-child::after {align-self: flex-start;width: 50%;}#sk-container-id-2 div.sk-parallel-item:only-child::after {width: 0;}#sk-container-id-2 div.sk-dashed-wrapped {border: 1px dashed gray;margin: 0 0.4em 0.5em 0.4em;box-sizing: border-box;padding-bottom: 0.4em;background-color: white;}#sk-container-id-2 div.sk-label label {font-family: monospace;font-weight: bold;display: inline-block;line-height: 1.2em;}#sk-container-id-2 div.sk-label-container {text-align: center;}#sk-container-id-2 div.sk-container {/* jupyter's `normalize.less` sets `[hidden] { display: none; }` but bootstrap.min.css set `[hidden] { display: none !important; }` so we also need the `!important` here to be able to override the default hidden behavior on the sphinx rendered scikit-learn.org. See: https://github.com/scikit-learn/scikit-learn/issues/21755 */display: inline-block !important;position: relative;}#sk-container-id-2 div.sk-text-repr-fallback {display: none;}</style><div id=\"sk-container-id-2\" class=\"sk-top-container\"><div class=\"sk-text-repr-fallback\"><pre>RandomForestRegressor(n_estimators=200)</pre><b>In a Jupyter environment, please rerun this cell to show the HTML representation or trust the notebook. <br />On GitHub, the HTML representation is unable to render, please try loading this page with nbviewer.org.</b></div><div class=\"sk-container\" hidden><div class=\"sk-item\"><div class=\"sk-estimator sk-toggleable\"><input class=\"sk-toggleable__control sk-hidden--visually\" id=\"sk-estimator-id-2\" type=\"checkbox\" checked><label for=\"sk-estimator-id-2\" class=\"sk-toggleable__label sk-toggleable__label-arrow\">RandomForestRegressor</label><div class=\"sk-toggleable__content\"><pre>RandomForestRegressor(n_estimators=200)</pre></div></div></div></div></div>"
      ],
      "text/plain": [
       "RandomForestRegressor(n_estimators=200)"
      ]
     },
     "execution_count": 64,
     "metadata": {},
     "output_type": "execute_result"
    }
   ],
   "source": [
    "random_forest = RandomForestRegressor(n_estimators=200)\n",
    "random_forest.fit(x_train, np.array(y_train).reshape(-1))"
   ]
  },
  {
   "cell_type": "code",
   "execution_count": 65,
   "id": "90107cb3-38b6-4c82-9516-2f7b548984ac",
   "metadata": {},
   "outputs": [
    {
     "name": "stdout",
     "output_type": "stream",
     "text": [
      "MSE for linear model: 45772325.6894\n",
      "MAE for linear model: 4296.8680\n"
     ]
    },
    {
     "data": {
      "text/plain": [
       "(224592285.65426898, 8773.985967993322)"
      ]
     },
     "execution_count": 65,
     "metadata": {},
     "output_type": "execute_result"
    }
   ],
   "source": [
    "y_pred = random_forest.predict(x_test)\n",
    "\n",
    "print(f'MSE for linear model: {mean_squared_error(y_test, y_pred):.4f}')\n",
    "print(f'MAE for linear model: {mean_absolute_error(y_test, y_pred):.4f}')\n",
    "mse_rtre, mae_rtre = mean_squared_error(y_test, y_pred), mean_absolute_error(y_test, y_pred)\n",
    "mse_lin - mse_rtre, mae_lin - mae_rtre # да, по факту база - линейка"
   ]
  },
  {
   "cell_type": "code",
   "execution_count": 66,
   "id": "a1adc5c1-a43e-473b-a267-1a5b13bb4360",
   "metadata": {},
   "outputs": [
    {
     "name": "stdout",
     "output_type": "stream",
     "text": [
      "Предсказание: 45160.1, суровая реальность: 49826.0, дельта: -4665.9\n",
      "Предсказание: 116108.3, суровая реальность: 128247.0, дельта: -12138.7\n",
      "Предсказание: 58160.0, суровая реальность: 56028.0, дельта: 2132.0\n"
     ]
    },
    {
     "data": {
      "image/png": "[encoded data removed]",
      "text/plain": [
       "<Figure size 640x480 with 1 Axes>"
      ]
     },
     "metadata": {},
     "output_type": "display_data"
    }
   ],
   "source": [
    "# Предсказание: 45249.0, суровая реальность: 49826.0, дельта: -4577.0\n",
    "# Предсказание: 115341.7, суровая реальность: 128247.0, дельта: -12905.3\n",
    "# Предсказание: 58079.9, суровая реальность: 56028.0, дельта: 2051.9\n",
    "\n",
    "y_test = np.array(y_test)\n",
    "for i in range(3):\n",
    "    print(f'Предсказание: {y_pred[i]:.1f}, суровая реальность: {y_test[i]:.1f}, дельта: {(y_pred[i] - y_test[i]):.1f}')\n",
    "delta = y_test - y_pred\n",
    "plt.scatter(y_test, delta) # как и видим - из-за кривой выборки чем ближе к краю выборки, тем хуже\n",
    "plt.grid()"
   ]
  },
  {
   "cell_type": "code",
   "execution_count": 67,
   "id": "f25d3a6f-5a7e-496d-80cc-f97fb697254f",
   "metadata": {},
   "outputs": [
    {
     "data": {
      "image/png": "[encoded data removed]",
      "text/plain": [
       "<Figure size 640x480 with 1 Axes>"
      ]
     },
     "metadata": {},
     "output_type": "display_data"
    }
   ],
   "source": [
    "plt.scatter(y_test, y_pred)\n",
    "plt.grid()"
   ]
  },
  {
   "cell_type": "markdown",
   "id": "66d2c8ff-d792-4b79-8ed1-0f320631b5c4",
   "metadata": {},
   "source": [
    "### Опорные вектора"
   ]
  },
  {
   "cell_type": "code",
   "execution_count": 68,
   "id": "d89dc1b7-7675-493a-8295-b39466c1ef4e",
   "metadata": {},
   "outputs": [
    {
     "data": {
      "text/html": [
       "<style>#sk-container-id-3 {color: black;}#sk-container-id-3 pre{padding: 0;}#sk-container-id-3 div.sk-toggleable {background-color: white;}#sk-container-id-3 label.sk-toggleable__label {cursor: pointer;display: block;width: 100%;margin-bottom: 0;padding: 0.3em;box-sizing: border-box;text-align: center;}#sk-container-id-3 label.sk-toggleable__label-arrow:before {content: \"▸\";float: left;margin-right: 0.25em;color: #696969;}#sk-container-id-3 label.sk-toggleable__label-arrow:hover:before {color: black;}#sk-container-id-3 div.sk-estimator:hover label.sk-toggleable__label-arrow:before {color: black;}#sk-container-id-3 div.sk-toggleable__content {max-height: 0;max-width: 0;overflow: hidden;text-align: left;background-color: #f0f8ff;}#sk-container-id-3 div.sk-toggleable__content pre {margin: 0.2em;color: black;border-radius: 0.25em;background-color: #f0f8ff;}#sk-container-id-3 input.sk-toggleable__control:checked~div.sk-toggleable__content {max-height: 200px;max-width: 100%;overflow: auto;}#sk-container-id-3 input.sk-toggleable__control:checked~label.sk-toggleable__label-arrow:before {content: \"▾\";}#sk-container-id-3 div.sk-estimator input.sk-toggleable__control:checked~label.sk-toggleable__label {background-color: #d4ebff;}#sk-container-id-3 div.sk-label input.sk-toggleable__control:checked~label.sk-toggleable__label {background-color: #d4ebff;}#sk-container-id-3 input.sk-hidden--visually {border: 0;clip: rect(1px 1px 1px 1px);clip: rect(1px, 1px, 1px, 1px);height: 1px;margin: -1px;overflow: hidden;padding: 0;position: absolute;width: 1px;}#sk-container-id-3 div.sk-estimator {font-family: monospace;background-color: #f0f8ff;border: 1px dotted black;border-radius: 0.25em;box-sizing: border-box;margin-bottom: 0.5em;}#sk-container-id-3 div.sk-estimator:hover {background-color: #d4ebff;}#sk-container-id-3 div.sk-parallel-item::after {content: \"\";width: 100%;border-bottom: 1px solid gray;flex-grow: 1;}#sk-container-id-3 div.sk-label:hover label.sk-toggleable__label {background-color: #d4ebff;}#sk-container-id-3 div.sk-serial::before {content: \"\";position: absolute;border-left: 1px solid gray;box-sizing: border-box;top: 0;bottom: 0;left: 50%;z-index: 0;}#sk-container-id-3 div.sk-serial {display: flex;flex-direction: column;align-items: center;background-color: white;padding-right: 0.2em;padding-left: 0.2em;position: relative;}#sk-container-id-3 div.sk-item {position: relative;z-index: 1;}#sk-container-id-3 div.sk-parallel {display: flex;align-items: stretch;justify-content: center;background-color: white;position: relative;}#sk-container-id-3 div.sk-item::before, #sk-container-id-3 div.sk-parallel-item::before {content: \"\";position: absolute;border-left: 1px solid gray;box-sizing: border-box;top: 0;bottom: 0;left: 50%;z-index: -1;}#sk-container-id-3 div.sk-parallel-item {display: flex;flex-direction: column;z-index: 1;position: relative;background-color: white;}#sk-container-id-3 div.sk-parallel-item:first-child::after {align-self: flex-end;width: 50%;}#sk-container-id-3 div.sk-parallel-item:last-child::after {align-self: flex-start;width: 50%;}#sk-container-id-3 div.sk-parallel-item:only-child::after {width: 0;}#sk-container-id-3 div.sk-dashed-wrapped {border: 1px dashed gray;margin: 0 0.4em 0.5em 0.4em;box-sizing: border-box;padding-bottom: 0.4em;background-color: white;}#sk-container-id-3 div.sk-label label {font-family: monospace;font-weight: bold;display: inline-block;line-height: 1.2em;}#sk-container-id-3 div.sk-label-container {text-align: center;}#sk-container-id-3 div.sk-container {/* jupyter's `normalize.less` sets `[hidden] { display: none; }` but bootstrap.min.css set `[hidden] { display: none !important; }` so we also need the `!important` here to be able to override the default hidden behavior on the sphinx rendered scikit-learn.org. See: https://github.com/scikit-learn/scikit-learn/issues/21755 */display: inline-block !important;position: relative;}#sk-container-id-3 div.sk-text-repr-fallback {display: none;}</style><div id=\"sk-container-id-3\" class=\"sk-top-container\"><div class=\"sk-text-repr-fallback\"><pre>SVR()</pre><b>In a Jupyter environment, please rerun this cell to show the HTML representation or trust the notebook. <br />On GitHub, the HTML representation is unable to render, please try loading this page with nbviewer.org.</b></div><div class=\"sk-container\" hidden><div class=\"sk-item\"><div class=\"sk-estimator sk-toggleable\"><input class=\"sk-toggleable__control sk-hidden--visually\" id=\"sk-estimator-id-3\" type=\"checkbox\" checked><label for=\"sk-estimator-id-3\" class=\"sk-toggleable__label sk-toggleable__label-arrow\">SVR</label><div class=\"sk-toggleable__content\"><pre>SVR()</pre></div></div></div></div></div>"
      ],
      "text/plain": [
       "SVR()"
      ]
     },
     "execution_count": 68,
     "metadata": {},
     "output_type": "execute_result"
    }
   ],
   "source": [
    "svr = SVR(kernel='rbf')\n",
    "svr.fit(x_train, y_train)"
   ]
  },
  {
   "cell_type": "code",
   "execution_count": 69,
   "id": "932d7344-062c-4fee-bc3d-5fb0242dd030",
   "metadata": {},
   "outputs": [
    {
     "name": "stdout",
     "output_type": "stream",
     "text": [
      "MSE for linear model: 45772325.6894\n",
      "MAE for linear model: 4296.8680\n"
     ]
    },
    {
     "data": {
      "text/plain": [
       "(224592285.65426898, 8773.985967993322)"
      ]
     },
     "execution_count": 69,
     "metadata": {},
     "output_type": "execute_result"
    }
   ],
   "source": [
    "y_pred = random_forest.predict(x_test)\n",
    "\n",
    "print(f'MSE for linear model: {mean_squared_error(y_test, y_pred):.4f}')\n",
    "print(f'MAE for linear model: {mean_absolute_error(y_test, y_pred):.4f}')\n",
    "mse_svr, mae_svr = mean_squared_error(y_test, y_pred), mean_absolute_error(y_test, y_pred)\n",
    "mse_lin - mse_svr, mae_lin - mae_svr # да, по факту база - линейка"
   ]
  },
  {
   "cell_type": "code",
   "execution_count": 70,
   "id": "96aae4a6-f722-45f2-83a3-f1cba1d1c067",
   "metadata": {},
   "outputs": [
    {
     "name": "stdout",
     "output_type": "stream",
     "text": [
      "Предсказание: 45160.1, суровая реальность: 49826.0, дельта: -4665.9\n",
      "Предсказание: 116108.3, суровая реальность: 128247.0, дельта: -12138.7\n",
      "Предсказание: 58160.0, суровая реальность: 56028.0, дельта: 2132.0\n"
     ]
    },
    {
     "data": {
      "image/png": "[encoded data removed]",
      "text/plain": [
       "<Figure size 640x480 with 1 Axes>"
      ]
     },
     "metadata": {},
     "output_type": "display_data"
    }
   ],
   "source": [
    "y_test = np.array(y_test)\n",
    "for i in range(3):\n",
    "    print(f'Предсказание: {y_pred[i]:.1f}, суровая реальность: {y_test[i]:.1f}, дельта: {(y_pred[i] - y_test[i]):.1f}')\n",
    "delta = y_test - y_pred\n",
    "plt.scatter(y_test, delta) # как и видим - из-за кривой выборки чем ближе к краю выборки, тем хуже\n",
    "plt.grid()"
   ]
  },
  {
   "cell_type": "code",
   "execution_count": 71,
   "id": "f09965ee-de10-4dec-81d4-e5d8994ea14e",
   "metadata": {},
   "outputs": [
    {
     "data": {
      "image/png": "[encoded data removed]",
      "text/plain": [
       "<Figure size 640x480 with 1 Axes>"
      ]
     },
     "metadata": {},
     "output_type": "display_data"
    }
   ],
   "source": [
    "plt.scatter(y_test, y_pred)\n",
    "plt.grid()"
   ]
  },
  {
   "cell_type": "code",
   "execution_count": 72,
   "id": "3d09c485-32e2-46f7-bd58-8727ca5afc7b",
   "metadata": {},
   "outputs": [
    {
     "name": "stdout",
     "output_type": "stream",
     "text": [
      "[0.96841748 0.96949465 0.91836104 0.92175226 0.96723784 0.97666308\n",
      " 0.94886678 0.92471919 0.73441324 0.84659299 0.89369875 0.83197464\n",
      " 0.95106796 0.96585092 0.98833583 0.97897944 0.9509285  0.96323056\n",
      " 0.9225405  0.96395792 0.95093236 0.96922854 0.78232038 0.98070846\n",
      " 0.75828318 0.96627591 0.94781492 0.91377496 0.91674668 0.84474217]\n"
     ]
    }
   ],
   "source": [
    "cv_results = cross_validate(random_forest, x_test, y_test, cv=30)\n",
    "\n",
    "print(cv_results['test_score'])"
   ]
  },
  {
   "cell_type": "code",
   "execution_count": 73,
   "id": "73d74b29-aec7-4c98-b2d7-5e0a5563bc5a",
   "metadata": {},
   "outputs": [
    {
     "data": {
      "text/plain": [
       "(0.9883358346671264, 0.734413237680177)"
      ]
     },
     "execution_count": 73,
     "metadata": {},
     "output_type": "execute_result"
    }
   ],
   "source": [
    "max(cv_results['test_score']), min(cv_results['test_score'])"
   ]
  },
  {
   "cell_type": "markdown",
   "id": "3f033088-8763-463c-9b9a-af52b9f956ef",
   "metadata": {},
   "source": [
    "### Определение лучших параметров"
   ]
  },
  {
   "cell_type": "code",
   "execution_count": 74,
   "id": "254af9fe-db7f-4427-96be-1485666c5604",
   "metadata": {},
   "outputs": [
    {
     "name": "stdout",
     "output_type": "stream",
     "text": [
      "{'criterion': 'squared_error', 'min_samples_leaf': 5, 'min_samples_split': 10, 'splitter': 'random'}\n",
      "0.949543286827715\n"
     ]
    }
   ],
   "source": [
    "param_grid = {'criterion': ['squared_error', 'absolute_error'],\n",
    "              'splitter': ['best', 'random'],\n",
    "              'min_samples_split': [2, 5, 10],\n",
    "              'min_samples_leaf': [1, 5, 10]}\n",
    "\n",
    "grid_search = GridSearchCV(estimator=DecisionTreeRegressor(), param_grid=param_grid)\n",
    "grid_search.fit(x_train, y_train)\n",
    "param = grid_search.best_params_\n",
    "best_score = grid_search.best_score_\n",
    "print(param)\n",
    "print(best_score)"
   ]
  },
  {
   "cell_type": "code",
   "execution_count": 76,
   "id": "08245739-3ac0-4911-a544-f306a13d3189",
   "metadata": {},
   "outputs": [
    {
     "name": "stdout",
     "output_type": "stream",
     "text": [
      "{'criterion': 'squared_error', 'min_samples_leaf': 10, 'min_samples_split': 2, 'n_estimators': 10}\n",
      "0.9453502670122205\n"
     ]
    }
   ],
   "source": [
    "param_grid = {'criterion': ['squared_error', 'absolute_error'],\n",
    "              'n_estimators': [10, 40, 100, 150],\n",
    "              'min_samples_split': [2, 5, 10],\n",
    "              'min_samples_leaf': [1, 5, 10]}\n",
    "\n",
    "grid_search = GridSearchCV(estimator=RandomForestRegressor(), param_grid=param_grid)\n",
    "grid_search.fit(x_train, y_train)\n",
    "param = grid_search.best_params_\n",
    "best_score = grid_search.best_score_\n",
    "print(param)\n",
    "print(best_score)"
   ]
  },
  {
   "cell_type": "code",
   "execution_count": 78,
   "id": "ad54ff5c-bdc5-4189-817c-832cd45f62d9",
   "metadata": {},
   "outputs": [
    {
     "name": "stdout",
     "output_type": "stream",
     "text": [
      "{'C': 2.0, 'degree': 2, 'kernel': 'linear', 'tol': 1e-05}\n",
      "0.34010412835308845\n"
     ]
    }
   ],
   "source": [
    "param_grid = {'tol': [0.001, 0.0001, 0.00001],\n",
    "              'C': [1.0, 1.5, 2.0],\n",
    "              'kernel': ['rbf', 'linear', 'poly', 'sigmoid'],\n",
    "             'degree': [2,3,4]}\n",
    "\n",
    "grid_search = GridSearchCV(estimator=SVR(), param_grid=param_grid)\n",
    "grid_search.fit(x_train, y_train)\n",
    "param = grid_search.best_params_\n",
    "best_score = grid_search.best_score_\n",
    "print(param)\n",
    "print(best_score)"
   ]
  },
  {
   "cell_type": "code",
   "execution_count": 82,
   "id": "ca433caf-8e37-4a87-9df2-7ef57cc270d2",
   "metadata": {},
   "outputs": [],
   "source": [
    "results_linear_regression = []\n",
    "\n",
    "for i in range(30):\n",
    "   \n",
    "    kfold = KFold(n_splits=10, shuffle=True, random_state=i)\n",
    "\n",
    "    linear = LinearRegression()\n",
    "\n",
    "    scores = cross_val_score(linear, x_train, y_train, cv=kfold, scoring='r2')\n",
    "    mse_scores = cross_val_score(linear, x_train, y_train, cv=kfold, scoring='neg_mean_squared_error')\n",
    "    mae_scores = cross_val_score(linear, x_train, y_train, cv=kfold, scoring='neg_mean_absolute_error')\n",
    "\n",
    "    mean_score = scores.mean()\n",
    "    results_linear_regression.append(mean_score)"
   ]
  },
  {
   "cell_type": "code",
   "execution_count": 85,
   "id": "79f43450-a47a-44a2-8926-ff105154973d",
   "metadata": {},
   "outputs": [],
   "source": [
    "results_decision_tree = []\n",
    "\n",
    "for i in range(30):\n",
    "   \n",
    "    kfold = KFold(n_splits=10, shuffle=True, random_state=i)\n",
    "\n",
    "    tree=DecisionTreeRegressor(criterion= 'squared_error', splitter='random', min_samples_split=10, min_samples_leaf=5)\n",
    "\n",
    "    scores = cross_val_score(tree, x_train, y_train, cv=kfold, scoring='r2')\n",
    "    mse_scores = cross_val_score(tree, x_train, y_train, cv=kfold, scoring='neg_mean_squared_error')\n",
    "    mae_scores = cross_val_score(tree, x_train, y_train, cv=kfold, scoring='neg_mean_absolute_error')\n",
    "\n",
    "    mean_score = scores.mean()\n",
    "    results_decision_tree.append(mean_score)"
   ]
  },
  {
   "cell_type": "code",
   "execution_count": 86,
   "id": "b429c2a6-f1d4-4d80-b622-af4b8b4109aa",
   "metadata": {},
   "outputs": [],
   "source": [
    "results_random_forest = []\n",
    "\n",
    "for i in range(30):\n",
    "   \n",
    "    kfold = KFold(n_splits=10, shuffle=True, random_state=i)\n",
    "    \n",
    "    random_forest=RandomForestRegressor(criterion='squared_error',  min_samples_leaf=10, min_samples_split=2, n_estimators=10)\n",
    "\n",
    "    scores = cross_val_score(random_forest, x_train, y_train, cv=kfold, scoring='r2')\n",
    "    mse_scores = cross_val_score(random_forest, x_train, y_train, cv=kfold, scoring='neg_mean_squared_error')\n",
    "    mae_scores = cross_val_score(random_forest, x_train, y_train, cv=kfold, scoring='neg_mean_absolute_error')\n",
    "\n",
    "    mean_score = scores.mean()\n",
    "    results_random_forest.append(mean_score)"
   ]
  },
  {
   "cell_type": "code",
   "execution_count": 84,
   "id": "154e606c-1b1b-46a2-b158-811dac9e89a9",
   "metadata": {},
   "outputs": [],
   "source": [
    "results_svm_poly = []\n",
    "\n",
    "for i in range(30):\n",
    "\n",
    "    kfold = KFold(n_splits=10, shuffle=True, random_state=i)\n",
    "\n",
    "    svm = SVR(kernel='poly', C=2.0, degree=3, tol=0.0001)\n",
    "\n",
    "    scores = cross_val_score(svm, x_train, y_train, cv=kfold, scoring='r2')\n",
    "    mse_scores = cross_val_score(svm, x_train, y_train, cv=kfold, scoring='neg_mean_squared_error')\n",
    "    mae_scores = cross_val_score(svm, x_train, y_train, cv=kfold, scoring='neg_mean_absolute_error')\n",
    "\n",
    "    mean_score = scores.mean()\n",
    "    results_svm_poly.append(mean_score)"
   ]
  },
  {
   "cell_type": "code",
   "execution_count": 83,
   "id": "3a431888-bcc3-4abb-a180-b84e1abec6a0",
   "metadata": {},
   "outputs": [],
   "source": [
    "results_svm = []\n",
    "\n",
    "for i in range(30):\n",
    "\n",
    "    kfold = KFold(n_splits=10, shuffle=True, random_state=i)\n",
    "\n",
    "    svm = SVR(kernel='linear', C=2.0, degree=2, tol=1e-05)\n",
    "\n",
    "    scores = cross_val_score(svm, x_train, y_train, cv=kfold, scoring='r2')\n",
    "    mse_scores = cross_val_score(svm, x_train, y_train, cv=kfold, scoring='neg_mean_squared_error')\n",
    "    mae_scores = cross_val_score(svm, x_train, y_train, cv=kfold, scoring='neg_mean_absolute_error')\n",
    "\n",
    "    mean_score = scores.mean()\n",
    "    results_svm.append(mean_score)"
   ]
  },
  {
   "cell_type": "code",
   "execution_count": 87,
   "id": "b2486d73-7391-4bd5-848a-30b2ecec9536",
   "metadata": {},
   "outputs": [
    {
     "data": {
      "text/html": [
       "<div>\n",
       "<style scoped>\n",
       "    .dataframe tbody tr th:only-of-type {\n",
       "        vertical-align: middle;\n",
       "    }\n",
       "\n",
       "    .dataframe tbody tr th {\n",
       "        vertical-align: top;\n",
       "    }\n",
       "\n",
       "    .dataframe thead th {\n",
       "        text-align: right;\n",
       "    }\n",
       "</style>\n",
       "<table border=\"1\" class=\"dataframe\">\n",
       "  <thead>\n",
       "    <tr style=\"text-align: right;\">\n",
       "      <th></th>\n",
       "      <th>Decison Tree</th>\n",
       "      <th>Random forest</th>\n",
       "      <th>Linear Regression</th>\n",
       "      <th>Poly</th>\n",
       "      <th>SVM</th>\n",
       "    </tr>\n",
       "  </thead>\n",
       "  <tbody>\n",
       "    <tr>\n",
       "      <th>0</th>\n",
       "      <td>0.941823</td>\n",
       "      <td>0.946013</td>\n",
       "      <td>0.771728</td>\n",
       "      <td>-0.002960</td>\n",
       "      <td>0.366266</td>\n",
       "    </tr>\n",
       "    <tr>\n",
       "      <th>1</th>\n",
       "      <td>0.947314</td>\n",
       "      <td>0.944977</td>\n",
       "      <td>0.750770</td>\n",
       "      <td>-0.003713</td>\n",
       "      <td>0.368646</td>\n",
       "    </tr>\n",
       "    <tr>\n",
       "      <th>2</th>\n",
       "      <td>0.946913</td>\n",
       "      <td>0.950115</td>\n",
       "      <td>0.758550</td>\n",
       "      <td>-0.002850</td>\n",
       "      <td>0.360742</td>\n",
       "    </tr>\n",
       "    <tr>\n",
       "      <th>3</th>\n",
       "      <td>0.949628</td>\n",
       "      <td>0.947695</td>\n",
       "      <td>0.758425</td>\n",
       "      <td>-0.000539</td>\n",
       "      <td>0.370150</td>\n",
       "    </tr>\n",
       "    <tr>\n",
       "      <th>4</th>\n",
       "      <td>0.950988</td>\n",
       "      <td>0.944298</td>\n",
       "      <td>0.759304</td>\n",
       "      <td>-0.002635</td>\n",
       "      <td>0.368370</td>\n",
       "    </tr>\n",
       "    <tr>\n",
       "      <th>5</th>\n",
       "      <td>0.938952</td>\n",
       "      <td>0.934661</td>\n",
       "      <td>0.718153</td>\n",
       "      <td>-0.003750</td>\n",
       "      <td>0.375558</td>\n",
       "    </tr>\n",
       "    <tr>\n",
       "      <th>6</th>\n",
       "      <td>0.948463</td>\n",
       "      <td>0.948158</td>\n",
       "      <td>0.734949</td>\n",
       "      <td>-0.003597</td>\n",
       "      <td>0.385293</td>\n",
       "    </tr>\n",
       "    <tr>\n",
       "      <th>7</th>\n",
       "      <td>0.944398</td>\n",
       "      <td>0.935331</td>\n",
       "      <td>0.763742</td>\n",
       "      <td>0.000156</td>\n",
       "      <td>0.377038</td>\n",
       "    </tr>\n",
       "    <tr>\n",
       "      <th>8</th>\n",
       "      <td>0.939479</td>\n",
       "      <td>0.944153</td>\n",
       "      <td>0.717064</td>\n",
       "      <td>-0.000153</td>\n",
       "      <td>0.386346</td>\n",
       "    </tr>\n",
       "    <tr>\n",
       "      <th>9</th>\n",
       "      <td>0.929625</td>\n",
       "      <td>0.937947</td>\n",
       "      <td>0.762048</td>\n",
       "      <td>-0.000902</td>\n",
       "      <td>0.361674</td>\n",
       "    </tr>\n",
       "    <tr>\n",
       "      <th>10</th>\n",
       "      <td>0.913439</td>\n",
       "      <td>0.936235</td>\n",
       "      <td>0.759306</td>\n",
       "      <td>-0.000421</td>\n",
       "      <td>0.367277</td>\n",
       "    </tr>\n",
       "    <tr>\n",
       "      <th>11</th>\n",
       "      <td>0.941344</td>\n",
       "      <td>0.939909</td>\n",
       "      <td>0.758323</td>\n",
       "      <td>-0.004024</td>\n",
       "      <td>0.375949</td>\n",
       "    </tr>\n",
       "    <tr>\n",
       "      <th>12</th>\n",
       "      <td>0.937365</td>\n",
       "      <td>0.933693</td>\n",
       "      <td>0.760461</td>\n",
       "      <td>-0.001259</td>\n",
       "      <td>0.366646</td>\n",
       "    </tr>\n",
       "    <tr>\n",
       "      <th>13</th>\n",
       "      <td>0.938760</td>\n",
       "      <td>0.942856</td>\n",
       "      <td>0.761579</td>\n",
       "      <td>-0.002936</td>\n",
       "      <td>0.359209</td>\n",
       "    </tr>\n",
       "    <tr>\n",
       "      <th>14</th>\n",
       "      <td>0.941462</td>\n",
       "      <td>0.943512</td>\n",
       "      <td>0.761422</td>\n",
       "      <td>-0.003991</td>\n",
       "      <td>0.370517</td>\n",
       "    </tr>\n",
       "    <tr>\n",
       "      <th>15</th>\n",
       "      <td>0.946177</td>\n",
       "      <td>0.940157</td>\n",
       "      <td>0.758530</td>\n",
       "      <td>-0.004032</td>\n",
       "      <td>0.361886</td>\n",
       "    </tr>\n",
       "    <tr>\n",
       "      <th>16</th>\n",
       "      <td>0.939267</td>\n",
       "      <td>0.941604</td>\n",
       "      <td>0.729703</td>\n",
       "      <td>-0.005000</td>\n",
       "      <td>0.387040</td>\n",
       "    </tr>\n",
       "    <tr>\n",
       "      <th>17</th>\n",
       "      <td>0.956308</td>\n",
       "      <td>0.944369</td>\n",
       "      <td>0.758804</td>\n",
       "      <td>-0.002478</td>\n",
       "      <td>0.367128</td>\n",
       "    </tr>\n",
       "    <tr>\n",
       "      <th>18</th>\n",
       "      <td>0.944603</td>\n",
       "      <td>0.936269</td>\n",
       "      <td>0.762819</td>\n",
       "      <td>-0.001323</td>\n",
       "      <td>0.374143</td>\n",
       "    </tr>\n",
       "    <tr>\n",
       "      <th>19</th>\n",
       "      <td>0.931879</td>\n",
       "      <td>0.938106</td>\n",
       "      <td>0.758674</td>\n",
       "      <td>-0.000776</td>\n",
       "      <td>0.373153</td>\n",
       "    </tr>\n",
       "    <tr>\n",
       "      <th>20</th>\n",
       "      <td>0.940579</td>\n",
       "      <td>0.945127</td>\n",
       "      <td>0.755044</td>\n",
       "      <td>-0.004369</td>\n",
       "      <td>0.367998</td>\n",
       "    </tr>\n",
       "    <tr>\n",
       "      <th>21</th>\n",
       "      <td>0.929441</td>\n",
       "      <td>0.941993</td>\n",
       "      <td>0.760401</td>\n",
       "      <td>-0.000652</td>\n",
       "      <td>0.378134</td>\n",
       "    </tr>\n",
       "    <tr>\n",
       "      <th>22</th>\n",
       "      <td>0.945913</td>\n",
       "      <td>0.947788</td>\n",
       "      <td>0.762658</td>\n",
       "      <td>-0.002101</td>\n",
       "      <td>0.376847</td>\n",
       "    </tr>\n",
       "    <tr>\n",
       "      <th>23</th>\n",
       "      <td>0.935706</td>\n",
       "      <td>0.941778</td>\n",
       "      <td>0.757566</td>\n",
       "      <td>-0.003353</td>\n",
       "      <td>0.366596</td>\n",
       "    </tr>\n",
       "    <tr>\n",
       "      <th>24</th>\n",
       "      <td>0.933344</td>\n",
       "      <td>0.938675</td>\n",
       "      <td>0.713855</td>\n",
       "      <td>-0.002472</td>\n",
       "      <td>0.371621</td>\n",
       "    </tr>\n",
       "    <tr>\n",
       "      <th>25</th>\n",
       "      <td>0.949132</td>\n",
       "      <td>0.947317</td>\n",
       "      <td>0.760025</td>\n",
       "      <td>-0.001974</td>\n",
       "      <td>0.372739</td>\n",
       "    </tr>\n",
       "    <tr>\n",
       "      <th>26</th>\n",
       "      <td>0.950876</td>\n",
       "      <td>0.941079</td>\n",
       "      <td>0.753052</td>\n",
       "      <td>0.000014</td>\n",
       "      <td>0.375176</td>\n",
       "    </tr>\n",
       "    <tr>\n",
       "      <th>27</th>\n",
       "      <td>0.945672</td>\n",
       "      <td>0.947608</td>\n",
       "      <td>0.755794</td>\n",
       "      <td>-0.002327</td>\n",
       "      <td>0.376386</td>\n",
       "    </tr>\n",
       "    <tr>\n",
       "      <th>28</th>\n",
       "      <td>0.953420</td>\n",
       "      <td>0.950295</td>\n",
       "      <td>0.751288</td>\n",
       "      <td>-0.005827</td>\n",
       "      <td>0.370057</td>\n",
       "    </tr>\n",
       "    <tr>\n",
       "      <th>29</th>\n",
       "      <td>0.936854</td>\n",
       "      <td>0.945352</td>\n",
       "      <td>0.762210</td>\n",
       "      <td>-0.001644</td>\n",
       "      <td>0.369960</td>\n",
       "    </tr>\n",
       "  </tbody>\n",
       "</table>\n",
       "</div>"
      ],
      "text/plain": [
       "    Decison Tree  Random forest  Linear Regression      Poly       SVM\n",
       "0       0.941823       0.946013           0.771728 -0.002960  0.366266\n",
       "1       0.947314       0.944977           0.750770 -0.003713  0.368646\n",
       "2       0.946913       0.950115           0.758550 -0.002850  0.360742\n",
       "3       0.949628       0.947695           0.758425 -0.000539  0.370150\n",
       "4       0.950988       0.944298           0.759304 -0.002635  0.368370\n",
       "5       0.938952       0.934661           0.718153 -0.003750  0.375558\n",
       "6       0.948463       0.948158           0.734949 -0.003597  0.385293\n",
       "7       0.944398       0.935331           0.763742  0.000156  0.377038\n",
       "8       0.939479       0.944153           0.717064 -0.000153  0.386346\n",
       "9       0.929625       0.937947           0.762048 -0.000902  0.361674\n",
       "10      0.913439       0.936235           0.759306 -0.000421  0.367277\n",
       "11      0.941344       0.939909           0.758323 -0.004024  0.375949\n",
       "12      0.937365       0.933693           0.760461 -0.001259  0.366646\n",
       "13      0.938760       0.942856           0.761579 -0.002936  0.359209\n",
       "14      0.941462       0.943512           0.761422 -0.003991  0.370517\n",
       "15      0.946177       0.940157           0.758530 -0.004032  0.361886\n",
       "16      0.939267       0.941604           0.729703 -0.005000  0.387040\n",
       "17      0.956308       0.944369           0.758804 -0.002478  0.367128\n",
       "18      0.944603       0.936269           0.762819 -0.001323  0.374143\n",
       "19      0.931879       0.938106           0.758674 -0.000776  0.373153\n",
       "20      0.940579       0.945127           0.755044 -0.004369  0.367998\n",
       "21      0.929441       0.941993           0.760401 -0.000652  0.378134\n",
       "22      0.945913       0.947788           0.762658 -0.002101  0.376847\n",
       "23      0.935706       0.941778           0.757566 -0.003353  0.366596\n",
       "24      0.933344       0.938675           0.713855 -0.002472  0.371621\n",
       "25      0.949132       0.947317           0.760025 -0.001974  0.372739\n",
       "26      0.950876       0.941079           0.753052  0.000014  0.375176\n",
       "27      0.945672       0.947608           0.755794 -0.002327  0.376386\n",
       "28      0.953420       0.950295           0.751288 -0.005827  0.370057\n",
       "29      0.936854       0.945352           0.762210 -0.001644  0.369960"
      ]
     },
     "execution_count": 87,
     "metadata": {},
     "output_type": "execute_result"
    }
   ],
   "source": [
    "results = pd.DataFrame({\n",
    "    'Decison Tree': results_decision_tree,\n",
    "    'Random forest': results_random_forest,\n",
    "    'Linear Regression': results_linear_regression,\n",
    "    'Poly': results_svm_poly,\n",
    "    'SVM': results_svm\n",
    "})\n",
    "results"
   ]
  },
  {
   "cell_type": "code",
   "execution_count": 101,
   "id": "8ca548d9-82eb-48c3-9ba9-4f6408c64988",
   "metadata": {},
   "outputs": [
    {
     "data": {
      "image/png": "[encoded data removed]",
      "text/plain": [
       "<Figure size 500x500 with 1 Axes>"
      ]
     },
     "metadata": {},
     "output_type": "display_data"
    }
   ],
   "source": [
    "sns.displot(results_random_forest, kind = 'kde');"
   ]
  },
  {
   "cell_type": "code",
   "execution_count": 102,
   "id": "e17aa02a-c85d-410c-8b5b-3588274d0fbb",
   "metadata": {},
   "outputs": [
    {
     "data": {
      "image/png": "[encoded data removed]",
      "text/plain": [
       "<Figure size 500x500 with 1 Axes>"
      ]
     },
     "metadata": {},
     "output_type": "display_data"
    }
   ],
   "source": [
    "sns.displot(results_decision_tree, kind = 'kde');"
   ]
  },
  {
   "cell_type": "code",
   "execution_count": 103,
   "id": "3ddf14c4-4a9a-4d16-bdd0-c6b362227bdc",
   "metadata": {},
   "outputs": [
    {
     "data": {
      "image/png": "[encoded data removed]",
      "text/plain": [
       "<Figure size 500x500 with 1 Axes>"
      ]
     },
     "metadata": {},
     "output_type": "display_data"
    }
   ],
   "source": [
    "sns.displot(results_linear_regression, kind = 'kde');"
   ]
  },
  {
   "cell_type": "markdown",
   "id": "142bd1a9-b43b-4bd5-9440-d86b4d9a735b",
   "metadata": {},
   "source": [
    "### Провер чего? Правильно, очка"
   ]
  },
  {
   "cell_type": "markdown",
   "id": "f378672c-41df-4e40-bf01-6d08d6e5d414",
   "metadata": {},
   "source": [
    "Функция f_oneway в библиотеке scipy.stats выполняет одномерный дисперсионный анализ (One-Way ANOVA). Она проверяет нулевую гипотезу о том, что две или более групп имеют одинаковое среднее значение в популяции."
   ]
  },
  {
   "cell_type": "code",
   "execution_count": 107,
   "id": "819f7d17-7947-406f-aaa6-1870c5bb622c",
   "metadata": {},
   "outputs": [
    {
     "name": "stdout",
     "output_type": "stream",
     "text": [
      "Null hypothesis rejected. Data is different\n",
      "2.0006507458557145e-236\n"
     ]
    }
   ],
   "source": [
    "_, p = f_oneway(results_decision_tree, results_random_forest, results_linear_regression, results_svm_poly, results_svm)\n",
    "alpha = 0.05\n",
    "if p <= alpha:\n",
    "    print('Null hypothesis rejected. Data is different')\n",
    "else:\n",
    "    print('Alternative hypothesis rejected. Results are equal')\n",
    "print(p)"
   ]
  },
  {
   "cell_type": "markdown",
   "id": "886965ff-eb74-47de-a610-1a11b0796d44",
   "metadata": {},
   "source": [
    "Проверка соответствия выборки нормальному распределению"
   ]
  },
  {
   "cell_type": "code",
   "execution_count": 109,
   "id": "90161b37-2252-4635-b6fa-3d0c80396672",
   "metadata": {},
   "outputs": [
    {
     "data": {
      "text/plain": [
       "(ShapiroResult(statistic=0.9368798136711121, pvalue=0.0749763622879982),\n",
       " ShapiroResult(statistic=0.9649682641029358, pvalue=0.4120566248893738),\n",
       " ShapiroResult(statistic=0.7122718095779419, pvalue=2.365553882555105e-06),\n",
       " ShapiroResult(statistic=0.9699661731719971, pvalue=0.5382503867149353),\n",
       " ShapiroResult(statistic=0.9575759172439575, pvalue=0.2682398855686188))"
      ]
     },
     "execution_count": 109,
     "metadata": {},
     "output_type": "execute_result"
    }
   ],
   "source": [
    "shapiro(results_decision_tree), shapiro(results_random_forest), shapiro(results_linear_regression), shapiro(results_svm_poly), shapiro(results_svm)\n"
   ]
  },
  {
   "cell_type": "code",
   "execution_count": 112,
   "id": "d8e993fd-5424-4d34-81c2-0005338dc313",
   "metadata": {},
   "outputs": [
    {
     "data": {
      "text/plain": [
       "[]"
      ]
     },
     "execution_count": 112,
     "metadata": {},
     "output_type": "execute_result"
    }
   ],
   "source": [
    "import collections\n",
    "\n",
    "a = collections.defaultdict(list)\n",
    "a['fd']"
   ]
  },
  {
   "cell_type": "code",
   "execution_count": 116,
   "id": "a3964901-c7fb-4723-ba61-b56c112f3b7d",
   "metadata": {
    "collapsed": true,
    "jupyter": {
     "outputs_hidden": true
    }
   },
   "outputs": [
    {
     "name": "stdout",
     "output_type": "stream",
     "text": [
      "0 1\n",
      "1 2\n",
      "2 3\n"
     ]
    }
   ],
   "source": [
    "a = [1, 2, 3]\n",
    "for i, b in enumerate(a):\n",
    "    print(i, b)"
   ]
  }
 ],
 "metadata": {
  "kernelspec": {
   "display_name": "Python 3 (ipykernel)",
   "language": "python",
   "name": "python3"
  },
  "language_info": {
   "codemirror_mode": {
    "name": "ipython",
    "version": 3
   },
   "file_extension": ".py",
   "mimetype": "text/x-python",
   "name": "python",
   "nbconvert_exporter": "python",
   "pygments_lexer": "ipython3",
   "version": "3.10.5"
  }
 },
 "nbformat": 4,
 "nbformat_minor": 5
}
