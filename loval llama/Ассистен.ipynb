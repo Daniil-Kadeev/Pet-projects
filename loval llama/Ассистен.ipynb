{
 "cells": [
  {
   "cell_type": "code",
   "execution_count": 11,
   "id": "fa2e728e-c018-462d-bdf2-bba0e2c173fb",
   "metadata": {},
   "outputs": [
    {
     "name": "stdin",
     "output_type": "stream",
     "text": [
      " ········\n"
     ]
    }
   ],
   "source": [
    "import getpass\n",
    "import os\n",
    "\n",
    "os.environ[\"LANGCHAIN_TRACING_V2\"] = \"true\"\n",
    "os.environ[\"LANGCHAIN_API_KEY\"] = getpass.getpass()"
   ]
  },
  {
   "cell_type": "code",
   "execution_count": 3,
   "id": "b28d1530-430d-4636-83ca-512a11576500",
   "metadata": {},
   "outputs": [],
   "source": [
    "from langchain_community.llms import LlamaCpp\n",
    "from langchain_core.callbacks import CallbackManager, StreamingStdOutCallbackHandler\n",
    "from langchain_core.prompts import PromptTemplate"
   ]
  },
  {
   "cell_type": "code",
   "execution_count": null,
   "id": "bfb387c5-7be0-4041-b0ae-8019aeaf5a84",
   "metadata": {
    "scrolled": true
   },
   "outputs": [],
   "source": [
    "callback_manager = CallbackManager([StreamingStdOutCallbackHandler()])\n",
    "\n",
    "llm = LlamaCpp(\n",
    "\n",
    "    model_path=r\"C:\\Users\\user\\Desktop\\learn models\\App_with_LLm\\models/Meta-Llama-3-8B-Instruct.Q2_K.gguf\",\n",
    "    max_token=2000,\n",
    "    temperature=0.75,\n",
    "    top_p=1,\n",
    "    callback_manager=callback_manager,\n",
    "    verbose=False\n",
    ")"
   ]
  },
  {
   "cell_type": "code",
   "execution_count": null,
   "id": "a1d92041-86d6-4cce-a477-ba8a0904b427",
   "metadata": {},
   "outputs": [],
   "source": [
    "question = \"\"\"\n",
    "Question: Translate the following from English into Italian - Hi\n",
    "\"\"\"\n",
    "\n",
    "response = llm.invoke(question)"
   ]
  }
 ],
 "metadata": {
  "kernelspec": {
   "display_name": "Python 3 (ipykernel)",
   "language": "python",
   "name": "python3"
  },
  "language_info": {
   "codemirror_mode": {
    "name": "ipython",
    "version": 3
   },
   "file_extension": ".py",
   "mimetype": "text/x-python",
   "name": "python",
   "nbconvert_exporter": "python",
   "pygments_lexer": "ipython3",
   "version": "3.10.5"
  }
 },
 "nbformat": 4,
 "nbformat_minor": 5
}
