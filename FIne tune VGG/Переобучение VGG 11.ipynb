{
 "cells": [
  {
   "cell_type": "markdown",
   "id": "f87f9039-1bc0-41a9-b485-7dfbcf2c691a",
   "metadata": {},
   "source": [
    "# Дообучение классификация спутниковые снимки"
   ]
  },
  {
   "cell_type": "markdown",
   "id": "06eea823-c9c4-4fee-b215-9d51493c7dff",
   "metadata": {},
   "source": [
    "## Загрузка библиотек"
   ]
  },
  {
   "cell_type": "code",
   "execution_count": null,
   "id": "ecdc5a52-8084-442c-9929-b80acd082d45",
   "metadata": {},
   "outputs": [],
   "source": [
    "from torchvision import transforms\n",
    "from torchvision import models\n",
    "from torchvision import datasets\n",
    "from torch.utils.data import DataLoader\n",
    "from torchvision import utils\n",
    "import torch\n",
    "\n",
    "import numpy as np\n",
    "import matplotlib.pyplot as plt\n",
    "\n",
    "\n",
    "from tqdm import tqdm\n",
    "import os\n",
    "import time\n",
    "import copy\n",
    "import random\n",
    "from PIL import Image\n"
   ]
  },
  {
   "cell_type": "markdown",
   "id": "495acf78-bd53-400e-901a-fe90b9e19aea",
   "metadata": {},
   "source": [
    "# Обязательная ячейка"
   ]
  },
  {
   "cell_type": "code",
   "execution_count": null,
   "id": "9513836d-ce9a-46f1-878b-f3423d9fb00d",
   "metadata": {},
   "outputs": [],
   "source": [
    "path_to_all_data = r'C:\\Users\\user\\Desktop\\learn models'"
   ]
  },
  {
   "cell_type": "markdown",
   "id": "edb2f574-a47b-4e10-9855-ef8f387d0f3a",
   "metadata": {},
   "source": [
    "## Изменение фотографий"
   ]
  },
  {
   "cell_type": "code",
   "execution_count": null,
   "id": "9d443077-329a-457a-97cb-8543d23c0ec8",
   "metadata": {},
   "outputs": [],
   "source": [
    "# подгон размера изображений под нейронку\n",
    "\n",
    "# from torchvision import transforms\n",
    "\n",
    "transform = transforms.Compose(\n",
    "    [\n",
    "        transforms.ToTensor(),\n",
    "        transforms.Resize(256),\n",
    "        transforms.CenterCrop(224),\n",
    "        transforms.Normalize(\n",
    "            mean=[0.485, 0.456, 0.406], \n",
    "            std=[0.229, 0.224, 0.225]\n",
    "        )\n",
    "    ]\n",
    ")"
   ]
  },
  {
   "cell_type": "markdown",
   "id": "30d22a65-0a70-4f86-b2ff-86c06326fa5d",
   "metadata": {},
   "source": [
    "## Загрузка модели"
   ]
  },
  {
   "cell_type": "code",
   "execution_count": null,
   "id": "ca91e8dd-6856-4fea-bdf2-2c21f03edb21",
   "metadata": {},
   "outputs": [],
   "source": [
    "# загрузка модели\n",
    "# from torchvision import models\n",
    "model = models.vgg11(pretrained=True).eval()"
   ]
  },
  {
   "cell_type": "markdown",
   "id": "b46be561-ef9d-4b7c-a032-6653e3546722",
   "metadata": {},
   "source": [
    "## Загрузка датасета"
   ]
  },
  {
   "cell_type": "code",
   "execution_count": null,
   "id": "f3679754-da7c-4c7b-9037-340b36852f51",
   "metadata": {},
   "outputs": [],
   "source": [
    "# загрузка датасета\n",
    "# from torchvision import datasets\n",
    "root_train = r'sputnics photo\\train'\n",
    "root_test = r'sputnics photo\\test'\n",
    "\n",
    "dataset = {\n",
    "    'train': datasets.ImageFolder(\n",
    "        root=os.path.join(path_to_all_data, root_train),\n",
    "        transform=transform\n",
    "    ),\n",
    "    'valid': datasets.ImageFolder(\n",
    "        root=os.path.join(path_to_all_data, root_test),\n",
    "        transform=transform\n",
    "    ),\n",
    "}\n",
    "\n",
    "dataset['train'].class_to_idx"
   ]
  },
  {
   "cell_type": "markdown",
   "id": "7ad4be48-e301-44e4-b2b6-19fdebb48c68",
   "metadata": {},
   "source": [
    "## Батчи"
   ]
  },
  {
   "cell_type": "code",
   "execution_count": null,
   "id": "db1ca527-7f2d-488a-9282-fbc84138de24",
   "metadata": {},
   "outputs": [],
   "source": [
    "# деление на батчи\n",
    "# from torch.utils.data import DataLoader\n",
    "\n",
    "batch_size = 5\n",
    "num_workers = 3 # распараллеливание\n",
    "dataloaders = {\n",
    "    'train': DataLoader(\n",
    "        dataset['train'], \n",
    "        batch_size=batch_size,\n",
    "        shuffle=True,\n",
    "        num_workers=num_workers\n",
    "    ),\n",
    "    'valid': DataLoader(\n",
    "        dataset['valid'], \n",
    "        batch_size=batch_size,\n",
    "        shuffle=True,\n",
    "        num_workers=num_workers\n",
    "    )\n",
    "}"
   ]
  },
  {
   "cell_type": "markdown",
   "id": "8f8b4847-9a44-496e-a09c-a9ea96b653b5",
   "metadata": {},
   "source": [
    "## Отображение батча"
   ]
  },
  {
   "cell_type": "code",
   "execution_count": null,
   "id": "15f9cb59-33e8-4104-b05f-7bf1901cf463",
   "metadata": {},
   "outputs": [],
   "source": [
    "# отображение батча\n",
    "real_batch = next(iter(dataloaders['train']))\n",
    "plt.figure(figsize=(8,8))\n",
    "plt.axis(\"off\")\n",
    "plt.title(\"Training Images\")\n",
    "plt.imshow(np.transpose(utils.make_grid(real_batch[0][:64], padding=2, normalize=True),(1,2,0)));"
   ]
  },
  {
   "cell_type": "markdown",
   "id": "89d3af4e-874d-4392-a2be-83fc72e83e11",
   "metadata": {},
   "source": [
    "При дообучении (файтюнинге) меняют только конец нейронки - полносвязные слои. Допустим в этой нейронке выход на 1000 классов. А мне нужно всего 4. Переобучать сверточные слои мне не нужно - они и так выделяют то что нужно, а вот слои которые классифицируют мои картинки уже нужно менять."
   ]
  },
  {
   "cell_type": "markdown",
   "id": "62bd2683-f79a-44f8-a2bf-a35ed90491e2",
   "metadata": {},
   "source": [
    "## Заморозка слоев"
   ]
  },
  {
   "cell_type": "code",
   "execution_count": null,
   "id": "a46b476c-4cf8-4200-baa8-b2ee0cefc434",
   "metadata": {},
   "outputs": [],
   "source": [
    "# заморозка обучения модели, перевод на GPU\n",
    "device = 'cpu'\n",
    "\n",
    "model = models.vgg11(pretrained=True, progress=False).to(device)"
   ]
  },
  {
   "cell_type": "code",
   "execution_count": null,
   "id": "64728db2-7fc8-42a4-bf2d-f8e436516dca",
   "metadata": {},
   "outputs": [],
   "source": [
    "# замараживаем параметры  сверточных слоев\n",
    "for param in model.parameters():\n",
    "    param.requires_grad = False"
   ]
  },
  {
   "cell_type": "code",
   "execution_count": null,
   "id": "418c9945-42d0-45c3-a06f-ec29976af8e7",
   "metadata": {},
   "outputs": [],
   "source": [
    "# замена слоя отвечающего за классификацию\n",
    "model.classifier[6] = torch.nn.Linear(4096, 4).to(device)\n"
   ]
  },
  {
   "cell_type": "markdown",
   "id": "82c4d285-69a3-4ffb-b6af-3ad6efe6fecf",
   "metadata": {},
   "source": [
    "В прошлой подсказке наебал. Тут мы меняем только последний слой отвечающий за классификацию."
   ]
  },
  {
   "cell_type": "markdown",
   "id": "eeb3c595-4336-423e-9a9a-dc78d91e0486",
   "metadata": {},
   "source": [
    "## Оптимизатор, критерий оптимизации"
   ]
  },
  {
   "cell_type": "code",
   "execution_count": null,
   "id": "efde5258-7d13-419b-9210-ed4e36b1bfaa",
   "metadata": {},
   "outputs": [],
   "source": [
    "params_to_update = model.parameters()\n",
    "\n",
    "params_to_update = []\n",
    "for name,param in model.named_parameters():\n",
    "    if param.requires_grad == True:\n",
    "        params_to_update.append(param)\n",
    "\n",
    "optimizer = torch.optim.Adam(params_to_update, lr=0.0001)\n",
    "criterion = torch.nn.CrossEntropyLoss()"
   ]
  },
  {
   "cell_type": "markdown",
   "id": "ec4d7546-431c-4327-95db-6fd10170cab2",
   "metadata": {},
   "source": [
    "## Функция обучения"
   ]
  },
  {
   "cell_type": "code",
   "execution_count": null,
   "id": "75d990d1-c1ae-45de-b650-adabc9cd9c9d",
   "metadata": {},
   "outputs": [],
   "source": [
    "# функция для обучения модели\n",
    "\n",
    "def train_model(model, dataloaders, criterion, optimizer, num_epochs=10):\n",
    "    since = time.time()\n",
    "\n",
    "    val_acc_history = []\n",
    "\n",
    "    best_model_wts = copy.deepcopy(model.state_dict())\n",
    "    best_acc = 0.0\n",
    "\n",
    "    for epoch in range(num_epochs):\n",
    "        print('Epoch {}/{}'.format(epoch, num_epochs - 1))\n",
    "        print('-' * 10)\n",
    "\n",
    "        # Each epoch has a training and validation phase\n",
    "        for phase in ['train', 'valid']:\n",
    "            if phase == 'train':\n",
    "                model.train()  # Set model to training mode\n",
    "            else:\n",
    "                model.eval()   # Set model to evaluate mode\n",
    "\n",
    "            running_loss = 0.0\n",
    "            running_corrects = 0\n",
    "\n",
    "            # Iterate over data.\n",
    "            for inputs, labels in tqdm(dataloaders[phase]):\n",
    "                inputs = inputs.to(device)\n",
    "                labels = labels.to(device)\n",
    "\n",
    "                # zero the parameter gradients\n",
    "                optimizer.zero_grad()\n",
    "\n",
    "                # forward\n",
    "                # track history if only in train\n",
    "                with torch.set_grad_enabled(phase == 'train'):\n",
    "                    outputs = model(inputs)\n",
    "                    loss = criterion(outputs, labels)\n",
    "\n",
    "                    _, preds = torch.max(outputs, 1)\n",
    "\n",
    "                    # backward + optimize only if in training phase\n",
    "                    if phase == 'train':\n",
    "                        loss.backward()\n",
    "                        optimizer.step()\n",
    "\n",
    "                # statistics\n",
    "                running_loss += loss.item() * inputs.size(0)\n",
    "                running_corrects += torch.sum(preds == labels.data)\n",
    "\n",
    "            epoch_loss = running_loss / len(dataloaders[phase].dataset)\n",
    "            epoch_acc = running_corrects.double() / len(dataloaders[phase].dataset)\n",
    "\n",
    "            print('{} Loss: {:.4f} Acc: {:.4f}'.format(phase, epoch_loss, epoch_acc))\n",
    "\n",
    "            # deep copy the model\n",
    "            if phase == 'valid' and epoch_acc > best_acc:\n",
    "                best_acc = epoch_acc\n",
    "                best_model_wts = copy.deepcopy(model.state_dict())\n",
    "            if phase == 'valid':\n",
    "                val_acc_history.append(epoch_acc)\n",
    "\n",
    "        print()\n",
    "\n",
    "    time_elapsed = time.time() - since\n",
    "    print('Training complete in {:.0f}m {:.0f}s'.format(time_elapsed // 60, time_elapsed % 60))\n",
    "    print('Best val Acc: {:4f}'.format(best_acc))\n",
    "\n",
    "    # load best model weights\n",
    "    model.load_state_dict(best_model_wts)\n",
    "    return model, val_acc_history"
   ]
  },
  {
   "cell_type": "markdown",
   "id": "41e60895-a001-44cf-a371-f5081deca258",
   "metadata": {},
   "source": [
    "## Обучение"
   ]
  },
  {
   "cell_type": "code",
   "execution_count": null,
   "id": "6679e366-86ad-4e0f-9779-2bcfa572bffd",
   "metadata": {},
   "outputs": [],
   "source": [
    "model, val_acc_history = train_model(model, dataloaders, criterion, optimizer, num_epochs=1)"
   ]
  },
  {
   "cell_type": "markdown",
   "id": "6e03172f-493f-4368-aef8-781cbde69d89",
   "metadata": {},
   "source": [
    "## Сохранение модели"
   ]
  },
  {
   "cell_type": "code",
   "execution_count": null,
   "id": "1369ca36-918c-42b5-ba52-f89facda38c9",
   "metadata": {},
   "outputs": [],
   "source": [
    "std_info = 'models.vgg11(pretrained=True, progress=False)'\n",
    "checkpoint = {\n",
    "            'info': std_info,\n",
    "            'state_model': model.state_dict(),\n",
    "        }\n",
    "torch.save(checkpoint, os.path.join(path_to_all_data, 'sputnics photo/model_fine_tune_classifier_epoche_1.pt'))"
   ]
  },
  {
   "cell_type": "markdown",
   "id": "811fad0b-2c77-412a-a479-07e91b2e473f",
   "metadata": {},
   "source": [
    "## Загрузка модели"
   ]
  },
  {
   "cell_type": "code",
   "execution_count": null,
   "id": "fb505bfc-7c5e-4b4d-8afa-f478225ae1f1",
   "metadata": {},
   "outputs": [],
   "source": [
    "load_model_state = torch.load(os.path.join(path_to_all_data, 'sputnics photo/model_fine_tune_classifier_epoche_1.pt'))"
   ]
  },
  {
   "cell_type": "code",
   "execution_count": null,
   "id": "5b2a3088-6306-4864-a638-049e47bc16f6",
   "metadata": {},
   "outputs": [],
   "source": [
    "load_model = models.vgg11(pretrained=True, progress=False).to(device)\n",
    "load_model.classifier[6] = torch.nn.Linear(4096, 4).to(device)"
   ]
  },
  {
   "cell_type": "code",
   "execution_count": null,
   "id": "57235e7d-164a-4008-a550-f20c5b86333d",
   "metadata": {
    "scrolled": true
   },
   "outputs": [],
   "source": [
    "load_model.load_state_dict(load_model_state['state_model'])\n",
    "load_model.eval()"
   ]
  },
  {
   "cell_type": "code",
   "execution_count": null,
   "id": "112db639-4429-4831-b020-4ef0852928e7",
   "metadata": {
    "scrolled": true
   },
   "outputs": [],
   "source": [
    "real_batch = next(iter(dataloaders['train']))\n",
    "print(real_batch)\n",
    "print(type(real_batch))"
   ]
  },
  {
   "cell_type": "code",
   "execution_count": null,
   "id": "fb40b801-dce6-4d88-b8e9-a1248ac7b263",
   "metadata": {},
   "outputs": [],
   "source": [
    "real_batch = next(iter(dataloaders['train']))"
   ]
  },
  {
   "cell_type": "code",
   "execution_count": null,
   "id": "07c5d62e-b945-407b-9e0c-e7a82387e848",
   "metadata": {
    "scrolled": true
   },
   "outputs": [],
   "source": [
    "real_batch[1]"
   ]
  },
  {
   "cell_type": "code",
   "execution_count": null,
   "id": "ed98a558-c1ad-4e71-975d-4e99af493900",
   "metadata": {},
   "outputs": [],
   "source": [
    "plt.figure(figsize=(8,8))\n",
    "plt.axis(\"off\")\n",
    "plt.title(\"Training Images\")\n",
    "plt.imshow(np.transpose(utils.make_grid(real_batch[0][:64], padding=2, normalize=True),(1,2,0)));"
   ]
  },
  {
   "cell_type": "code",
   "execution_count": null,
   "id": "6083b536-3a3a-4525-b4cf-5792af6f1fe0",
   "metadata": {},
   "outputs": [],
   "source": [
    "real_batch[0][0].shape"
   ]
  },
  {
   "cell_type": "code",
   "execution_count": null,
   "id": "49d8ac95-c9f6-4160-8e52-f9bf2a4291b5",
   "metadata": {},
   "outputs": [],
   "source": [
    "load_model(real_batch[0][1][np.newaxis])"
   ]
  }
 ],
 "metadata": {
  "kernelspec": {
   "display_name": "Python 3 (ipykernel)",
   "language": "python",
   "name": "python3"
  },
  "language_info": {
   "codemirror_mode": {
    "name": "ipython",
    "version": 3
   },
   "file_extension": ".py",
   "mimetype": "text/x-python",
   "name": "python",
   "nbconvert_exporter": "python",
   "pygments_lexer": "ipython3",
   "version": "3.10.5"
  }
 },
 "nbformat": 4,
 "nbformat_minor": 5
}
